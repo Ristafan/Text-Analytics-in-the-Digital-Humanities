{
  "nbformat": 4,
  "nbformat_minor": 0,
  "metadata": {
    "colab": {
      "provenance": [],
      "gpuType": "L4"
    },
    "kernelspec": {
      "name": "python3",
      "display_name": "Python 3"
    },
    "language_info": {
      "name": "python"
    },
    "accelerator": "GPU",
    "widgets": {
      "application/vnd.jupyter.widget-state+json": {
        "20d7f1fdf5594459a5bbb2ff3251eb14": {
          "model_module": "@jupyter-widgets/controls",
          "model_name": "HBoxModel",
          "model_module_version": "1.5.0",
          "state": {
            "_dom_classes": [],
            "_model_module": "@jupyter-widgets/controls",
            "_model_module_version": "1.5.0",
            "_model_name": "HBoxModel",
            "_view_count": null,
            "_view_module": "@jupyter-widgets/controls",
            "_view_module_version": "1.5.0",
            "_view_name": "HBoxView",
            "box_style": "",
            "children": [
              "IPY_MODEL_6fd5af7266874bc4b5d5ccd115ec9a81",
              "IPY_MODEL_e69b60f4e84a41799e56c9b95c886806",
              "IPY_MODEL_f6e719cb4daf4c2c88a1f63445a4a53c"
            ],
            "layout": "IPY_MODEL_534b1fd28a6d4874a8bf8102f527da68"
          }
        },
        "6fd5af7266874bc4b5d5ccd115ec9a81": {
          "model_module": "@jupyter-widgets/controls",
          "model_name": "HTMLModel",
          "model_module_version": "1.5.0",
          "state": {
            "_dom_classes": [],
            "_model_module": "@jupyter-widgets/controls",
            "_model_module_version": "1.5.0",
            "_model_name": "HTMLModel",
            "_view_count": null,
            "_view_module": "@jupyter-widgets/controls",
            "_view_module_version": "1.5.0",
            "_view_name": "HTMLView",
            "description": "",
            "description_tooltip": null,
            "layout": "IPY_MODEL_0ffd713af3d74bb8b7a4e6f4a93b3f85",
            "placeholder": "​",
            "style": "IPY_MODEL_f94959f3ae704b0a8413add2f95c84c6",
            "value": "config.json: 100%"
          }
        },
        "e69b60f4e84a41799e56c9b95c886806": {
          "model_module": "@jupyter-widgets/controls",
          "model_name": "FloatProgressModel",
          "model_module_version": "1.5.0",
          "state": {
            "_dom_classes": [],
            "_model_module": "@jupyter-widgets/controls",
            "_model_module_version": "1.5.0",
            "_model_name": "FloatProgressModel",
            "_view_count": null,
            "_view_module": "@jupyter-widgets/controls",
            "_view_module_version": "1.5.0",
            "_view_name": "ProgressView",
            "bar_style": "success",
            "description": "",
            "description_tooltip": null,
            "layout": "IPY_MODEL_f54c12f132294bae8248ed2e8d486a12",
            "max": 747,
            "min": 0,
            "orientation": "horizontal",
            "style": "IPY_MODEL_6267ee98ec074b92893b8bb0fd83cbf4",
            "value": 747
          }
        },
        "f6e719cb4daf4c2c88a1f63445a4a53c": {
          "model_module": "@jupyter-widgets/controls",
          "model_name": "HTMLModel",
          "model_module_version": "1.5.0",
          "state": {
            "_dom_classes": [],
            "_model_module": "@jupyter-widgets/controls",
            "_model_module_version": "1.5.0",
            "_model_name": "HTMLModel",
            "_view_count": null,
            "_view_module": "@jupyter-widgets/controls",
            "_view_module_version": "1.5.0",
            "_view_name": "HTMLView",
            "description": "",
            "description_tooltip": null,
            "layout": "IPY_MODEL_3f9c11e1f0d34a17bf49ef7bacde8220",
            "placeholder": "​",
            "style": "IPY_MODEL_f4d80cb1b69b4608af730e1940ba7047",
            "value": " 747/747 [00:00&lt;00:00, 91.2kB/s]"
          }
        },
        "534b1fd28a6d4874a8bf8102f527da68": {
          "model_module": "@jupyter-widgets/base",
          "model_name": "LayoutModel",
          "model_module_version": "1.2.0",
          "state": {
            "_model_module": "@jupyter-widgets/base",
            "_model_module_version": "1.2.0",
            "_model_name": "LayoutModel",
            "_view_count": null,
            "_view_module": "@jupyter-widgets/base",
            "_view_module_version": "1.2.0",
            "_view_name": "LayoutView",
            "align_content": null,
            "align_items": null,
            "align_self": null,
            "border": null,
            "bottom": null,
            "display": null,
            "flex": null,
            "flex_flow": null,
            "grid_area": null,
            "grid_auto_columns": null,
            "grid_auto_flow": null,
            "grid_auto_rows": null,
            "grid_column": null,
            "grid_gap": null,
            "grid_row": null,
            "grid_template_areas": null,
            "grid_template_columns": null,
            "grid_template_rows": null,
            "height": null,
            "justify_content": null,
            "justify_items": null,
            "left": null,
            "margin": null,
            "max_height": null,
            "max_width": null,
            "min_height": null,
            "min_width": null,
            "object_fit": null,
            "object_position": null,
            "order": null,
            "overflow": null,
            "overflow_x": null,
            "overflow_y": null,
            "padding": null,
            "right": null,
            "top": null,
            "visibility": null,
            "width": null
          }
        },
        "0ffd713af3d74bb8b7a4e6f4a93b3f85": {
          "model_module": "@jupyter-widgets/base",
          "model_name": "LayoutModel",
          "model_module_version": "1.2.0",
          "state": {
            "_model_module": "@jupyter-widgets/base",
            "_model_module_version": "1.2.0",
            "_model_name": "LayoutModel",
            "_view_count": null,
            "_view_module": "@jupyter-widgets/base",
            "_view_module_version": "1.2.0",
            "_view_name": "LayoutView",
            "align_content": null,
            "align_items": null,
            "align_self": null,
            "border": null,
            "bottom": null,
            "display": null,
            "flex": null,
            "flex_flow": null,
            "grid_area": null,
            "grid_auto_columns": null,
            "grid_auto_flow": null,
            "grid_auto_rows": null,
            "grid_column": null,
            "grid_gap": null,
            "grid_row": null,
            "grid_template_areas": null,
            "grid_template_columns": null,
            "grid_template_rows": null,
            "height": null,
            "justify_content": null,
            "justify_items": null,
            "left": null,
            "margin": null,
            "max_height": null,
            "max_width": null,
            "min_height": null,
            "min_width": null,
            "object_fit": null,
            "object_position": null,
            "order": null,
            "overflow": null,
            "overflow_x": null,
            "overflow_y": null,
            "padding": null,
            "right": null,
            "top": null,
            "visibility": null,
            "width": null
          }
        },
        "f94959f3ae704b0a8413add2f95c84c6": {
          "model_module": "@jupyter-widgets/controls",
          "model_name": "DescriptionStyleModel",
          "model_module_version": "1.5.0",
          "state": {
            "_model_module": "@jupyter-widgets/controls",
            "_model_module_version": "1.5.0",
            "_model_name": "DescriptionStyleModel",
            "_view_count": null,
            "_view_module": "@jupyter-widgets/base",
            "_view_module_version": "1.2.0",
            "_view_name": "StyleView",
            "description_width": ""
          }
        },
        "f54c12f132294bae8248ed2e8d486a12": {
          "model_module": "@jupyter-widgets/base",
          "model_name": "LayoutModel",
          "model_module_version": "1.2.0",
          "state": {
            "_model_module": "@jupyter-widgets/base",
            "_model_module_version": "1.2.0",
            "_model_name": "LayoutModel",
            "_view_count": null,
            "_view_module": "@jupyter-widgets/base",
            "_view_module_version": "1.2.0",
            "_view_name": "LayoutView",
            "align_content": null,
            "align_items": null,
            "align_self": null,
            "border": null,
            "bottom": null,
            "display": null,
            "flex": null,
            "flex_flow": null,
            "grid_area": null,
            "grid_auto_columns": null,
            "grid_auto_flow": null,
            "grid_auto_rows": null,
            "grid_column": null,
            "grid_gap": null,
            "grid_row": null,
            "grid_template_areas": null,
            "grid_template_columns": null,
            "grid_template_rows": null,
            "height": null,
            "justify_content": null,
            "justify_items": null,
            "left": null,
            "margin": null,
            "max_height": null,
            "max_width": null,
            "min_height": null,
            "min_width": null,
            "object_fit": null,
            "object_position": null,
            "order": null,
            "overflow": null,
            "overflow_x": null,
            "overflow_y": null,
            "padding": null,
            "right": null,
            "top": null,
            "visibility": null,
            "width": null
          }
        },
        "6267ee98ec074b92893b8bb0fd83cbf4": {
          "model_module": "@jupyter-widgets/controls",
          "model_name": "ProgressStyleModel",
          "model_module_version": "1.5.0",
          "state": {
            "_model_module": "@jupyter-widgets/controls",
            "_model_module_version": "1.5.0",
            "_model_name": "ProgressStyleModel",
            "_view_count": null,
            "_view_module": "@jupyter-widgets/base",
            "_view_module_version": "1.2.0",
            "_view_name": "StyleView",
            "bar_color": null,
            "description_width": ""
          }
        },
        "3f9c11e1f0d34a17bf49ef7bacde8220": {
          "model_module": "@jupyter-widgets/base",
          "model_name": "LayoutModel",
          "model_module_version": "1.2.0",
          "state": {
            "_model_module": "@jupyter-widgets/base",
            "_model_module_version": "1.2.0",
            "_model_name": "LayoutModel",
            "_view_count": null,
            "_view_module": "@jupyter-widgets/base",
            "_view_module_version": "1.2.0",
            "_view_name": "LayoutView",
            "align_content": null,
            "align_items": null,
            "align_self": null,
            "border": null,
            "bottom": null,
            "display": null,
            "flex": null,
            "flex_flow": null,
            "grid_area": null,
            "grid_auto_columns": null,
            "grid_auto_flow": null,
            "grid_auto_rows": null,
            "grid_column": null,
            "grid_gap": null,
            "grid_row": null,
            "grid_template_areas": null,
            "grid_template_columns": null,
            "grid_template_rows": null,
            "height": null,
            "justify_content": null,
            "justify_items": null,
            "left": null,
            "margin": null,
            "max_height": null,
            "max_width": null,
            "min_height": null,
            "min_width": null,
            "object_fit": null,
            "object_position": null,
            "order": null,
            "overflow": null,
            "overflow_x": null,
            "overflow_y": null,
            "padding": null,
            "right": null,
            "top": null,
            "visibility": null,
            "width": null
          }
        },
        "f4d80cb1b69b4608af730e1940ba7047": {
          "model_module": "@jupyter-widgets/controls",
          "model_name": "DescriptionStyleModel",
          "model_module_version": "1.5.0",
          "state": {
            "_model_module": "@jupyter-widgets/controls",
            "_model_module_version": "1.5.0",
            "_model_name": "DescriptionStyleModel",
            "_view_count": null,
            "_view_module": "@jupyter-widgets/base",
            "_view_module_version": "1.2.0",
            "_view_name": "StyleView",
            "description_width": ""
          }
        },
        "40dd587f7e434867a1adbb531cdd83bc": {
          "model_module": "@jupyter-widgets/controls",
          "model_name": "HBoxModel",
          "model_module_version": "1.5.0",
          "state": {
            "_dom_classes": [],
            "_model_module": "@jupyter-widgets/controls",
            "_model_module_version": "1.5.0",
            "_model_name": "HBoxModel",
            "_view_count": null,
            "_view_module": "@jupyter-widgets/controls",
            "_view_module_version": "1.5.0",
            "_view_name": "HBoxView",
            "box_style": "",
            "children": [
              "IPY_MODEL_bafdc7cc1c3f428ea39aa275570b1172",
              "IPY_MODEL_503e01603ebe48a9a414a41532c53ba8",
              "IPY_MODEL_b6466d4130144ef68be40c096161684f"
            ],
            "layout": "IPY_MODEL_e884d0559d634cfa9c33b4de56d23222"
          }
        },
        "bafdc7cc1c3f428ea39aa275570b1172": {
          "model_module": "@jupyter-widgets/controls",
          "model_name": "HTMLModel",
          "model_module_version": "1.5.0",
          "state": {
            "_dom_classes": [],
            "_model_module": "@jupyter-widgets/controls",
            "_model_module_version": "1.5.0",
            "_model_name": "HTMLModel",
            "_view_count": null,
            "_view_module": "@jupyter-widgets/controls",
            "_view_module_version": "1.5.0",
            "_view_name": "HTMLView",
            "description": "",
            "description_tooltip": null,
            "layout": "IPY_MODEL_a47a21faaf584a35a4a479249d08dc28",
            "placeholder": "​",
            "style": "IPY_MODEL_6f72487262cb43bb8916e4ec35b1458d",
            "value": "vocab.json: 100%"
          }
        },
        "503e01603ebe48a9a414a41532c53ba8": {
          "model_module": "@jupyter-widgets/controls",
          "model_name": "FloatProgressModel",
          "model_module_version": "1.5.0",
          "state": {
            "_dom_classes": [],
            "_model_module": "@jupyter-widgets/controls",
            "_model_module_version": "1.5.0",
            "_model_name": "FloatProgressModel",
            "_view_count": null,
            "_view_module": "@jupyter-widgets/controls",
            "_view_module_version": "1.5.0",
            "_view_name": "ProgressView",
            "bar_style": "success",
            "description": "",
            "description_tooltip": null,
            "layout": "IPY_MODEL_1b4e1c2563f249dc82739b16a1230601",
            "max": 898822,
            "min": 0,
            "orientation": "horizontal",
            "style": "IPY_MODEL_eb74c0fd11c94104813b023dcc429f85",
            "value": 898822
          }
        },
        "b6466d4130144ef68be40c096161684f": {
          "model_module": "@jupyter-widgets/controls",
          "model_name": "HTMLModel",
          "model_module_version": "1.5.0",
          "state": {
            "_dom_classes": [],
            "_model_module": "@jupyter-widgets/controls",
            "_model_module_version": "1.5.0",
            "_model_name": "HTMLModel",
            "_view_count": null,
            "_view_module": "@jupyter-widgets/controls",
            "_view_module_version": "1.5.0",
            "_view_name": "HTMLView",
            "description": "",
            "description_tooltip": null,
            "layout": "IPY_MODEL_59f79feadf874309b2469c5be2ce22ae",
            "placeholder": "​",
            "style": "IPY_MODEL_4f499881bfb8415ebd6f62518f4dea15",
            "value": " 899k/899k [00:00&lt;00:00, 1.97MB/s]"
          }
        },
        "e884d0559d634cfa9c33b4de56d23222": {
          "model_module": "@jupyter-widgets/base",
          "model_name": "LayoutModel",
          "model_module_version": "1.2.0",
          "state": {
            "_model_module": "@jupyter-widgets/base",
            "_model_module_version": "1.2.0",
            "_model_name": "LayoutModel",
            "_view_count": null,
            "_view_module": "@jupyter-widgets/base",
            "_view_module_version": "1.2.0",
            "_view_name": "LayoutView",
            "align_content": null,
            "align_items": null,
            "align_self": null,
            "border": null,
            "bottom": null,
            "display": null,
            "flex": null,
            "flex_flow": null,
            "grid_area": null,
            "grid_auto_columns": null,
            "grid_auto_flow": null,
            "grid_auto_rows": null,
            "grid_column": null,
            "grid_gap": null,
            "grid_row": null,
            "grid_template_areas": null,
            "grid_template_columns": null,
            "grid_template_rows": null,
            "height": null,
            "justify_content": null,
            "justify_items": null,
            "left": null,
            "margin": null,
            "max_height": null,
            "max_width": null,
            "min_height": null,
            "min_width": null,
            "object_fit": null,
            "object_position": null,
            "order": null,
            "overflow": null,
            "overflow_x": null,
            "overflow_y": null,
            "padding": null,
            "right": null,
            "top": null,
            "visibility": null,
            "width": null
          }
        },
        "a47a21faaf584a35a4a479249d08dc28": {
          "model_module": "@jupyter-widgets/base",
          "model_name": "LayoutModel",
          "model_module_version": "1.2.0",
          "state": {
            "_model_module": "@jupyter-widgets/base",
            "_model_module_version": "1.2.0",
            "_model_name": "LayoutModel",
            "_view_count": null,
            "_view_module": "@jupyter-widgets/base",
            "_view_module_version": "1.2.0",
            "_view_name": "LayoutView",
            "align_content": null,
            "align_items": null,
            "align_self": null,
            "border": null,
            "bottom": null,
            "display": null,
            "flex": null,
            "flex_flow": null,
            "grid_area": null,
            "grid_auto_columns": null,
            "grid_auto_flow": null,
            "grid_auto_rows": null,
            "grid_column": null,
            "grid_gap": null,
            "grid_row": null,
            "grid_template_areas": null,
            "grid_template_columns": null,
            "grid_template_rows": null,
            "height": null,
            "justify_content": null,
            "justify_items": null,
            "left": null,
            "margin": null,
            "max_height": null,
            "max_width": null,
            "min_height": null,
            "min_width": null,
            "object_fit": null,
            "object_position": null,
            "order": null,
            "overflow": null,
            "overflow_x": null,
            "overflow_y": null,
            "padding": null,
            "right": null,
            "top": null,
            "visibility": null,
            "width": null
          }
        },
        "6f72487262cb43bb8916e4ec35b1458d": {
          "model_module": "@jupyter-widgets/controls",
          "model_name": "DescriptionStyleModel",
          "model_module_version": "1.5.0",
          "state": {
            "_model_module": "@jupyter-widgets/controls",
            "_model_module_version": "1.5.0",
            "_model_name": "DescriptionStyleModel",
            "_view_count": null,
            "_view_module": "@jupyter-widgets/base",
            "_view_module_version": "1.2.0",
            "_view_name": "StyleView",
            "description_width": ""
          }
        },
        "1b4e1c2563f249dc82739b16a1230601": {
          "model_module": "@jupyter-widgets/base",
          "model_name": "LayoutModel",
          "model_module_version": "1.2.0",
          "state": {
            "_model_module": "@jupyter-widgets/base",
            "_model_module_version": "1.2.0",
            "_model_name": "LayoutModel",
            "_view_count": null,
            "_view_module": "@jupyter-widgets/base",
            "_view_module_version": "1.2.0",
            "_view_name": "LayoutView",
            "align_content": null,
            "align_items": null,
            "align_self": null,
            "border": null,
            "bottom": null,
            "display": null,
            "flex": null,
            "flex_flow": null,
            "grid_area": null,
            "grid_auto_columns": null,
            "grid_auto_flow": null,
            "grid_auto_rows": null,
            "grid_column": null,
            "grid_gap": null,
            "grid_row": null,
            "grid_template_areas": null,
            "grid_template_columns": null,
            "grid_template_rows": null,
            "height": null,
            "justify_content": null,
            "justify_items": null,
            "left": null,
            "margin": null,
            "max_height": null,
            "max_width": null,
            "min_height": null,
            "min_width": null,
            "object_fit": null,
            "object_position": null,
            "order": null,
            "overflow": null,
            "overflow_x": null,
            "overflow_y": null,
            "padding": null,
            "right": null,
            "top": null,
            "visibility": null,
            "width": null
          }
        },
        "eb74c0fd11c94104813b023dcc429f85": {
          "model_module": "@jupyter-widgets/controls",
          "model_name": "ProgressStyleModel",
          "model_module_version": "1.5.0",
          "state": {
            "_model_module": "@jupyter-widgets/controls",
            "_model_module_version": "1.5.0",
            "_model_name": "ProgressStyleModel",
            "_view_count": null,
            "_view_module": "@jupyter-widgets/base",
            "_view_module_version": "1.2.0",
            "_view_name": "StyleView",
            "bar_color": null,
            "description_width": ""
          }
        },
        "59f79feadf874309b2469c5be2ce22ae": {
          "model_module": "@jupyter-widgets/base",
          "model_name": "LayoutModel",
          "model_module_version": "1.2.0",
          "state": {
            "_model_module": "@jupyter-widgets/base",
            "_model_module_version": "1.2.0",
            "_model_name": "LayoutModel",
            "_view_count": null,
            "_view_module": "@jupyter-widgets/base",
            "_view_module_version": "1.2.0",
            "_view_name": "LayoutView",
            "align_content": null,
            "align_items": null,
            "align_self": null,
            "border": null,
            "bottom": null,
            "display": null,
            "flex": null,
            "flex_flow": null,
            "grid_area": null,
            "grid_auto_columns": null,
            "grid_auto_flow": null,
            "grid_auto_rows": null,
            "grid_column": null,
            "grid_gap": null,
            "grid_row": null,
            "grid_template_areas": null,
            "grid_template_columns": null,
            "grid_template_rows": null,
            "height": null,
            "justify_content": null,
            "justify_items": null,
            "left": null,
            "margin": null,
            "max_height": null,
            "max_width": null,
            "min_height": null,
            "min_width": null,
            "object_fit": null,
            "object_position": null,
            "order": null,
            "overflow": null,
            "overflow_x": null,
            "overflow_y": null,
            "padding": null,
            "right": null,
            "top": null,
            "visibility": null,
            "width": null
          }
        },
        "4f499881bfb8415ebd6f62518f4dea15": {
          "model_module": "@jupyter-widgets/controls",
          "model_name": "DescriptionStyleModel",
          "model_module_version": "1.5.0",
          "state": {
            "_model_module": "@jupyter-widgets/controls",
            "_model_module_version": "1.5.0",
            "_model_name": "DescriptionStyleModel",
            "_view_count": null,
            "_view_module": "@jupyter-widgets/base",
            "_view_module_version": "1.2.0",
            "_view_name": "StyleView",
            "description_width": ""
          }
        },
        "6f9c211d44284ece813093beefc6c1bb": {
          "model_module": "@jupyter-widgets/controls",
          "model_name": "HBoxModel",
          "model_module_version": "1.5.0",
          "state": {
            "_dom_classes": [],
            "_model_module": "@jupyter-widgets/controls",
            "_model_module_version": "1.5.0",
            "_model_name": "HBoxModel",
            "_view_count": null,
            "_view_module": "@jupyter-widgets/controls",
            "_view_module_version": "1.5.0",
            "_view_name": "HBoxView",
            "box_style": "",
            "children": [
              "IPY_MODEL_a21f5211a1954c878f6e5eebd42c4fb0",
              "IPY_MODEL_2827197cf8ce46838a05713b4107b2e9",
              "IPY_MODEL_62404bffafd94e88971f101fc51063e4"
            ],
            "layout": "IPY_MODEL_9aea0bc04999405a88b89d7f186b0556"
          }
        },
        "a21f5211a1954c878f6e5eebd42c4fb0": {
          "model_module": "@jupyter-widgets/controls",
          "model_name": "HTMLModel",
          "model_module_version": "1.5.0",
          "state": {
            "_dom_classes": [],
            "_model_module": "@jupyter-widgets/controls",
            "_model_module_version": "1.5.0",
            "_model_name": "HTMLModel",
            "_view_count": null,
            "_view_module": "@jupyter-widgets/controls",
            "_view_module_version": "1.5.0",
            "_view_name": "HTMLView",
            "description": "",
            "description_tooltip": null,
            "layout": "IPY_MODEL_aff57746e00b44d9a466887f76cc26c6",
            "placeholder": "​",
            "style": "IPY_MODEL_39559039565342b791bb9958a29f8ec1",
            "value": "merges.txt: 100%"
          }
        },
        "2827197cf8ce46838a05713b4107b2e9": {
          "model_module": "@jupyter-widgets/controls",
          "model_name": "FloatProgressModel",
          "model_module_version": "1.5.0",
          "state": {
            "_dom_classes": [],
            "_model_module": "@jupyter-widgets/controls",
            "_model_module_version": "1.5.0",
            "_model_name": "FloatProgressModel",
            "_view_count": null,
            "_view_module": "@jupyter-widgets/controls",
            "_view_module_version": "1.5.0",
            "_view_name": "ProgressView",
            "bar_style": "success",
            "description": "",
            "description_tooltip": null,
            "layout": "IPY_MODEL_6cad16ac5d3e47058c262bf092ceeb50",
            "max": 456318,
            "min": 0,
            "orientation": "horizontal",
            "style": "IPY_MODEL_c9eb9c0bc7ce45259988add230db822b",
            "value": 456318
          }
        },
        "62404bffafd94e88971f101fc51063e4": {
          "model_module": "@jupyter-widgets/controls",
          "model_name": "HTMLModel",
          "model_module_version": "1.5.0",
          "state": {
            "_dom_classes": [],
            "_model_module": "@jupyter-widgets/controls",
            "_model_module_version": "1.5.0",
            "_model_name": "HTMLModel",
            "_view_count": null,
            "_view_module": "@jupyter-widgets/controls",
            "_view_module_version": "1.5.0",
            "_view_name": "HTMLView",
            "description": "",
            "description_tooltip": null,
            "layout": "IPY_MODEL_14a1d471f0154698a7d4a14a2763614c",
            "placeholder": "​",
            "style": "IPY_MODEL_8354280693994c1ea081b8fa0cd33074",
            "value": " 456k/456k [00:00&lt;00:00, 1.00MB/s]"
          }
        },
        "9aea0bc04999405a88b89d7f186b0556": {
          "model_module": "@jupyter-widgets/base",
          "model_name": "LayoutModel",
          "model_module_version": "1.2.0",
          "state": {
            "_model_module": "@jupyter-widgets/base",
            "_model_module_version": "1.2.0",
            "_model_name": "LayoutModel",
            "_view_count": null,
            "_view_module": "@jupyter-widgets/base",
            "_view_module_version": "1.2.0",
            "_view_name": "LayoutView",
            "align_content": null,
            "align_items": null,
            "align_self": null,
            "border": null,
            "bottom": null,
            "display": null,
            "flex": null,
            "flex_flow": null,
            "grid_area": null,
            "grid_auto_columns": null,
            "grid_auto_flow": null,
            "grid_auto_rows": null,
            "grid_column": null,
            "grid_gap": null,
            "grid_row": null,
            "grid_template_areas": null,
            "grid_template_columns": null,
            "grid_template_rows": null,
            "height": null,
            "justify_content": null,
            "justify_items": null,
            "left": null,
            "margin": null,
            "max_height": null,
            "max_width": null,
            "min_height": null,
            "min_width": null,
            "object_fit": null,
            "object_position": null,
            "order": null,
            "overflow": null,
            "overflow_x": null,
            "overflow_y": null,
            "padding": null,
            "right": null,
            "top": null,
            "visibility": null,
            "width": null
          }
        },
        "aff57746e00b44d9a466887f76cc26c6": {
          "model_module": "@jupyter-widgets/base",
          "model_name": "LayoutModel",
          "model_module_version": "1.2.0",
          "state": {
            "_model_module": "@jupyter-widgets/base",
            "_model_module_version": "1.2.0",
            "_model_name": "LayoutModel",
            "_view_count": null,
            "_view_module": "@jupyter-widgets/base",
            "_view_module_version": "1.2.0",
            "_view_name": "LayoutView",
            "align_content": null,
            "align_items": null,
            "align_self": null,
            "border": null,
            "bottom": null,
            "display": null,
            "flex": null,
            "flex_flow": null,
            "grid_area": null,
            "grid_auto_columns": null,
            "grid_auto_flow": null,
            "grid_auto_rows": null,
            "grid_column": null,
            "grid_gap": null,
            "grid_row": null,
            "grid_template_areas": null,
            "grid_template_columns": null,
            "grid_template_rows": null,
            "height": null,
            "justify_content": null,
            "justify_items": null,
            "left": null,
            "margin": null,
            "max_height": null,
            "max_width": null,
            "min_height": null,
            "min_width": null,
            "object_fit": null,
            "object_position": null,
            "order": null,
            "overflow": null,
            "overflow_x": null,
            "overflow_y": null,
            "padding": null,
            "right": null,
            "top": null,
            "visibility": null,
            "width": null
          }
        },
        "39559039565342b791bb9958a29f8ec1": {
          "model_module": "@jupyter-widgets/controls",
          "model_name": "DescriptionStyleModel",
          "model_module_version": "1.5.0",
          "state": {
            "_model_module": "@jupyter-widgets/controls",
            "_model_module_version": "1.5.0",
            "_model_name": "DescriptionStyleModel",
            "_view_count": null,
            "_view_module": "@jupyter-widgets/base",
            "_view_module_version": "1.2.0",
            "_view_name": "StyleView",
            "description_width": ""
          }
        },
        "6cad16ac5d3e47058c262bf092ceeb50": {
          "model_module": "@jupyter-widgets/base",
          "model_name": "LayoutModel",
          "model_module_version": "1.2.0",
          "state": {
            "_model_module": "@jupyter-widgets/base",
            "_model_module_version": "1.2.0",
            "_model_name": "LayoutModel",
            "_view_count": null,
            "_view_module": "@jupyter-widgets/base",
            "_view_module_version": "1.2.0",
            "_view_name": "LayoutView",
            "align_content": null,
            "align_items": null,
            "align_self": null,
            "border": null,
            "bottom": null,
            "display": null,
            "flex": null,
            "flex_flow": null,
            "grid_area": null,
            "grid_auto_columns": null,
            "grid_auto_flow": null,
            "grid_auto_rows": null,
            "grid_column": null,
            "grid_gap": null,
            "grid_row": null,
            "grid_template_areas": null,
            "grid_template_columns": null,
            "grid_template_rows": null,
            "height": null,
            "justify_content": null,
            "justify_items": null,
            "left": null,
            "margin": null,
            "max_height": null,
            "max_width": null,
            "min_height": null,
            "min_width": null,
            "object_fit": null,
            "object_position": null,
            "order": null,
            "overflow": null,
            "overflow_x": null,
            "overflow_y": null,
            "padding": null,
            "right": null,
            "top": null,
            "visibility": null,
            "width": null
          }
        },
        "c9eb9c0bc7ce45259988add230db822b": {
          "model_module": "@jupyter-widgets/controls",
          "model_name": "ProgressStyleModel",
          "model_module_version": "1.5.0",
          "state": {
            "_model_module": "@jupyter-widgets/controls",
            "_model_module_version": "1.5.0",
            "_model_name": "ProgressStyleModel",
            "_view_count": null,
            "_view_module": "@jupyter-widgets/base",
            "_view_module_version": "1.2.0",
            "_view_name": "StyleView",
            "bar_color": null,
            "description_width": ""
          }
        },
        "14a1d471f0154698a7d4a14a2763614c": {
          "model_module": "@jupyter-widgets/base",
          "model_name": "LayoutModel",
          "model_module_version": "1.2.0",
          "state": {
            "_model_module": "@jupyter-widgets/base",
            "_model_module_version": "1.2.0",
            "_model_name": "LayoutModel",
            "_view_count": null,
            "_view_module": "@jupyter-widgets/base",
            "_view_module_version": "1.2.0",
            "_view_name": "LayoutView",
            "align_content": null,
            "align_items": null,
            "align_self": null,
            "border": null,
            "bottom": null,
            "display": null,
            "flex": null,
            "flex_flow": null,
            "grid_area": null,
            "grid_auto_columns": null,
            "grid_auto_flow": null,
            "grid_auto_rows": null,
            "grid_column": null,
            "grid_gap": null,
            "grid_row": null,
            "grid_template_areas": null,
            "grid_template_columns": null,
            "grid_template_rows": null,
            "height": null,
            "justify_content": null,
            "justify_items": null,
            "left": null,
            "margin": null,
            "max_height": null,
            "max_width": null,
            "min_height": null,
            "min_width": null,
            "object_fit": null,
            "object_position": null,
            "order": null,
            "overflow": null,
            "overflow_x": null,
            "overflow_y": null,
            "padding": null,
            "right": null,
            "top": null,
            "visibility": null,
            "width": null
          }
        },
        "8354280693994c1ea081b8fa0cd33074": {
          "model_module": "@jupyter-widgets/controls",
          "model_name": "DescriptionStyleModel",
          "model_module_version": "1.5.0",
          "state": {
            "_model_module": "@jupyter-widgets/controls",
            "_model_module_version": "1.5.0",
            "_model_name": "DescriptionStyleModel",
            "_view_count": null,
            "_view_module": "@jupyter-widgets/base",
            "_view_module_version": "1.2.0",
            "_view_name": "StyleView",
            "description_width": ""
          }
        },
        "5ae0f38e20e340b3ab6a86a31ff3ed7e": {
          "model_module": "@jupyter-widgets/controls",
          "model_name": "HBoxModel",
          "model_module_version": "1.5.0",
          "state": {
            "_dom_classes": [],
            "_model_module": "@jupyter-widgets/controls",
            "_model_module_version": "1.5.0",
            "_model_name": "HBoxModel",
            "_view_count": null,
            "_view_module": "@jupyter-widgets/controls",
            "_view_module_version": "1.5.0",
            "_view_name": "HBoxView",
            "box_style": "",
            "children": [
              "IPY_MODEL_1e74e534e04a418587f3f63e714ad541",
              "IPY_MODEL_52e3cde696774b89804a56a24b9ca769",
              "IPY_MODEL_d9eead2d4e2a438fb0f1aa4d42e72c12"
            ],
            "layout": "IPY_MODEL_3778d27b20ec4e3bb2cc5337432483a4"
          }
        },
        "1e74e534e04a418587f3f63e714ad541": {
          "model_module": "@jupyter-widgets/controls",
          "model_name": "HTMLModel",
          "model_module_version": "1.5.0",
          "state": {
            "_dom_classes": [],
            "_model_module": "@jupyter-widgets/controls",
            "_model_module_version": "1.5.0",
            "_model_name": "HTMLModel",
            "_view_count": null,
            "_view_module": "@jupyter-widgets/controls",
            "_view_module_version": "1.5.0",
            "_view_name": "HTMLView",
            "description": "",
            "description_tooltip": null,
            "layout": "IPY_MODEL_3b76e07f281e4ec4a29500e9aff99ed7",
            "placeholder": "​",
            "style": "IPY_MODEL_52c6fddcdc134213b64469bba2ad57de",
            "value": "special_tokens_map.json: 100%"
          }
        },
        "52e3cde696774b89804a56a24b9ca769": {
          "model_module": "@jupyter-widgets/controls",
          "model_name": "FloatProgressModel",
          "model_module_version": "1.5.0",
          "state": {
            "_dom_classes": [],
            "_model_module": "@jupyter-widgets/controls",
            "_model_module_version": "1.5.0",
            "_model_name": "FloatProgressModel",
            "_view_count": null,
            "_view_module": "@jupyter-widgets/controls",
            "_view_module_version": "1.5.0",
            "_view_name": "ProgressView",
            "bar_style": "success",
            "description": "",
            "description_tooltip": null,
            "layout": "IPY_MODEL_0a7a0b0c0bc64611bc6b58f054bbb011",
            "max": 150,
            "min": 0,
            "orientation": "horizontal",
            "style": "IPY_MODEL_f2ceba1ac76d44d18db941c5ead1b4d7",
            "value": 150
          }
        },
        "d9eead2d4e2a438fb0f1aa4d42e72c12": {
          "model_module": "@jupyter-widgets/controls",
          "model_name": "HTMLModel",
          "model_module_version": "1.5.0",
          "state": {
            "_dom_classes": [],
            "_model_module": "@jupyter-widgets/controls",
            "_model_module_version": "1.5.0",
            "_model_name": "HTMLModel",
            "_view_count": null,
            "_view_module": "@jupyter-widgets/controls",
            "_view_module_version": "1.5.0",
            "_view_name": "HTMLView",
            "description": "",
            "description_tooltip": null,
            "layout": "IPY_MODEL_3834c36c03ed431a8a4e8c501047def6",
            "placeholder": "​",
            "style": "IPY_MODEL_b20a996c4bf74325a6f6ce9a95258a25",
            "value": " 150/150 [00:00&lt;00:00, 19.2kB/s]"
          }
        },
        "3778d27b20ec4e3bb2cc5337432483a4": {
          "model_module": "@jupyter-widgets/base",
          "model_name": "LayoutModel",
          "model_module_version": "1.2.0",
          "state": {
            "_model_module": "@jupyter-widgets/base",
            "_model_module_version": "1.2.0",
            "_model_name": "LayoutModel",
            "_view_count": null,
            "_view_module": "@jupyter-widgets/base",
            "_view_module_version": "1.2.0",
            "_view_name": "LayoutView",
            "align_content": null,
            "align_items": null,
            "align_self": null,
            "border": null,
            "bottom": null,
            "display": null,
            "flex": null,
            "flex_flow": null,
            "grid_area": null,
            "grid_auto_columns": null,
            "grid_auto_flow": null,
            "grid_auto_rows": null,
            "grid_column": null,
            "grid_gap": null,
            "grid_row": null,
            "grid_template_areas": null,
            "grid_template_columns": null,
            "grid_template_rows": null,
            "height": null,
            "justify_content": null,
            "justify_items": null,
            "left": null,
            "margin": null,
            "max_height": null,
            "max_width": null,
            "min_height": null,
            "min_width": null,
            "object_fit": null,
            "object_position": null,
            "order": null,
            "overflow": null,
            "overflow_x": null,
            "overflow_y": null,
            "padding": null,
            "right": null,
            "top": null,
            "visibility": null,
            "width": null
          }
        },
        "3b76e07f281e4ec4a29500e9aff99ed7": {
          "model_module": "@jupyter-widgets/base",
          "model_name": "LayoutModel",
          "model_module_version": "1.2.0",
          "state": {
            "_model_module": "@jupyter-widgets/base",
            "_model_module_version": "1.2.0",
            "_model_name": "LayoutModel",
            "_view_count": null,
            "_view_module": "@jupyter-widgets/base",
            "_view_module_version": "1.2.0",
            "_view_name": "LayoutView",
            "align_content": null,
            "align_items": null,
            "align_self": null,
            "border": null,
            "bottom": null,
            "display": null,
            "flex": null,
            "flex_flow": null,
            "grid_area": null,
            "grid_auto_columns": null,
            "grid_auto_flow": null,
            "grid_auto_rows": null,
            "grid_column": null,
            "grid_gap": null,
            "grid_row": null,
            "grid_template_areas": null,
            "grid_template_columns": null,
            "grid_template_rows": null,
            "height": null,
            "justify_content": null,
            "justify_items": null,
            "left": null,
            "margin": null,
            "max_height": null,
            "max_width": null,
            "min_height": null,
            "min_width": null,
            "object_fit": null,
            "object_position": null,
            "order": null,
            "overflow": null,
            "overflow_x": null,
            "overflow_y": null,
            "padding": null,
            "right": null,
            "top": null,
            "visibility": null,
            "width": null
          }
        },
        "52c6fddcdc134213b64469bba2ad57de": {
          "model_module": "@jupyter-widgets/controls",
          "model_name": "DescriptionStyleModel",
          "model_module_version": "1.5.0",
          "state": {
            "_model_module": "@jupyter-widgets/controls",
            "_model_module_version": "1.5.0",
            "_model_name": "DescriptionStyleModel",
            "_view_count": null,
            "_view_module": "@jupyter-widgets/base",
            "_view_module_version": "1.2.0",
            "_view_name": "StyleView",
            "description_width": ""
          }
        },
        "0a7a0b0c0bc64611bc6b58f054bbb011": {
          "model_module": "@jupyter-widgets/base",
          "model_name": "LayoutModel",
          "model_module_version": "1.2.0",
          "state": {
            "_model_module": "@jupyter-widgets/base",
            "_model_module_version": "1.2.0",
            "_model_name": "LayoutModel",
            "_view_count": null,
            "_view_module": "@jupyter-widgets/base",
            "_view_module_version": "1.2.0",
            "_view_name": "LayoutView",
            "align_content": null,
            "align_items": null,
            "align_self": null,
            "border": null,
            "bottom": null,
            "display": null,
            "flex": null,
            "flex_flow": null,
            "grid_area": null,
            "grid_auto_columns": null,
            "grid_auto_flow": null,
            "grid_auto_rows": null,
            "grid_column": null,
            "grid_gap": null,
            "grid_row": null,
            "grid_template_areas": null,
            "grid_template_columns": null,
            "grid_template_rows": null,
            "height": null,
            "justify_content": null,
            "justify_items": null,
            "left": null,
            "margin": null,
            "max_height": null,
            "max_width": null,
            "min_height": null,
            "min_width": null,
            "object_fit": null,
            "object_position": null,
            "order": null,
            "overflow": null,
            "overflow_x": null,
            "overflow_y": null,
            "padding": null,
            "right": null,
            "top": null,
            "visibility": null,
            "width": null
          }
        },
        "f2ceba1ac76d44d18db941c5ead1b4d7": {
          "model_module": "@jupyter-widgets/controls",
          "model_name": "ProgressStyleModel",
          "model_module_version": "1.5.0",
          "state": {
            "_model_module": "@jupyter-widgets/controls",
            "_model_module_version": "1.5.0",
            "_model_name": "ProgressStyleModel",
            "_view_count": null,
            "_view_module": "@jupyter-widgets/base",
            "_view_module_version": "1.2.0",
            "_view_name": "StyleView",
            "bar_color": null,
            "description_width": ""
          }
        },
        "3834c36c03ed431a8a4e8c501047def6": {
          "model_module": "@jupyter-widgets/base",
          "model_name": "LayoutModel",
          "model_module_version": "1.2.0",
          "state": {
            "_model_module": "@jupyter-widgets/base",
            "_model_module_version": "1.2.0",
            "_model_name": "LayoutModel",
            "_view_count": null,
            "_view_module": "@jupyter-widgets/base",
            "_view_module_version": "1.2.0",
            "_view_name": "LayoutView",
            "align_content": null,
            "align_items": null,
            "align_self": null,
            "border": null,
            "bottom": null,
            "display": null,
            "flex": null,
            "flex_flow": null,
            "grid_area": null,
            "grid_auto_columns": null,
            "grid_auto_flow": null,
            "grid_auto_rows": null,
            "grid_column": null,
            "grid_gap": null,
            "grid_row": null,
            "grid_template_areas": null,
            "grid_template_columns": null,
            "grid_template_rows": null,
            "height": null,
            "justify_content": null,
            "justify_items": null,
            "left": null,
            "margin": null,
            "max_height": null,
            "max_width": null,
            "min_height": null,
            "min_width": null,
            "object_fit": null,
            "object_position": null,
            "order": null,
            "overflow": null,
            "overflow_x": null,
            "overflow_y": null,
            "padding": null,
            "right": null,
            "top": null,
            "visibility": null,
            "width": null
          }
        },
        "b20a996c4bf74325a6f6ce9a95258a25": {
          "model_module": "@jupyter-widgets/controls",
          "model_name": "DescriptionStyleModel",
          "model_module_version": "1.5.0",
          "state": {
            "_model_module": "@jupyter-widgets/controls",
            "_model_module_version": "1.5.0",
            "_model_name": "DescriptionStyleModel",
            "_view_count": null,
            "_view_module": "@jupyter-widgets/base",
            "_view_module_version": "1.2.0",
            "_view_name": "StyleView",
            "description_width": ""
          }
        },
        "b4797f3bd05a46268a0e8027d270236d": {
          "model_module": "@jupyter-widgets/controls",
          "model_name": "HBoxModel",
          "model_module_version": "1.5.0",
          "state": {
            "_dom_classes": [],
            "_model_module": "@jupyter-widgets/controls",
            "_model_module_version": "1.5.0",
            "_model_name": "HBoxModel",
            "_view_count": null,
            "_view_module": "@jupyter-widgets/controls",
            "_view_module_version": "1.5.0",
            "_view_name": "HBoxView",
            "box_style": "",
            "children": [
              "IPY_MODEL_fd4879ab077748aca3fa45652a603063",
              "IPY_MODEL_41264e44c4c040e083efa4c129733d13",
              "IPY_MODEL_562bfff3b13542199ede6f205582e2c3"
            ],
            "layout": "IPY_MODEL_7ea7e6359a1145e58c936b8094b9a5c9"
          }
        },
        "fd4879ab077748aca3fa45652a603063": {
          "model_module": "@jupyter-widgets/controls",
          "model_name": "HTMLModel",
          "model_module_version": "1.5.0",
          "state": {
            "_dom_classes": [],
            "_model_module": "@jupyter-widgets/controls",
            "_model_module_version": "1.5.0",
            "_model_name": "HTMLModel",
            "_view_count": null,
            "_view_module": "@jupyter-widgets/controls",
            "_view_module_version": "1.5.0",
            "_view_name": "HTMLView",
            "description": "",
            "description_tooltip": null,
            "layout": "IPY_MODEL_d2bf9d28e3794945a627809c60fa6873",
            "placeholder": "​",
            "style": "IPY_MODEL_16d851a222ee4d25b30c762569389e5c",
            "value": "pytorch_model.bin: 100%"
          }
        },
        "41264e44c4c040e083efa4c129733d13": {
          "model_module": "@jupyter-widgets/controls",
          "model_name": "FloatProgressModel",
          "model_module_version": "1.5.0",
          "state": {
            "_dom_classes": [],
            "_model_module": "@jupyter-widgets/controls",
            "_model_module_version": "1.5.0",
            "_model_name": "FloatProgressModel",
            "_view_count": null,
            "_view_module": "@jupyter-widgets/controls",
            "_view_module_version": "1.5.0",
            "_view_name": "ProgressView",
            "bar_style": "success",
            "description": "",
            "description_tooltip": null,
            "layout": "IPY_MODEL_bc9c613253aa4be5884e47c88ddd067e",
            "max": 498679497,
            "min": 0,
            "orientation": "horizontal",
            "style": "IPY_MODEL_5d416a59337e4bb9afd0e230a4cf5e4f",
            "value": 498679497
          }
        },
        "562bfff3b13542199ede6f205582e2c3": {
          "model_module": "@jupyter-widgets/controls",
          "model_name": "HTMLModel",
          "model_module_version": "1.5.0",
          "state": {
            "_dom_classes": [],
            "_model_module": "@jupyter-widgets/controls",
            "_model_module_version": "1.5.0",
            "_model_name": "HTMLModel",
            "_view_count": null,
            "_view_module": "@jupyter-widgets/controls",
            "_view_module_version": "1.5.0",
            "_view_name": "HTMLView",
            "description": "",
            "description_tooltip": null,
            "layout": "IPY_MODEL_6193b580c4cc43fe81e6e675aaca7034",
            "placeholder": "​",
            "style": "IPY_MODEL_b9abb8a96254471ca921130981bec547",
            "value": " 499M/499M [00:02&lt;00:00, 395MB/s]"
          }
        },
        "7ea7e6359a1145e58c936b8094b9a5c9": {
          "model_module": "@jupyter-widgets/base",
          "model_name": "LayoutModel",
          "model_module_version": "1.2.0",
          "state": {
            "_model_module": "@jupyter-widgets/base",
            "_model_module_version": "1.2.0",
            "_model_name": "LayoutModel",
            "_view_count": null,
            "_view_module": "@jupyter-widgets/base",
            "_view_module_version": "1.2.0",
            "_view_name": "LayoutView",
            "align_content": null,
            "align_items": null,
            "align_self": null,
            "border": null,
            "bottom": null,
            "display": null,
            "flex": null,
            "flex_flow": null,
            "grid_area": null,
            "grid_auto_columns": null,
            "grid_auto_flow": null,
            "grid_auto_rows": null,
            "grid_column": null,
            "grid_gap": null,
            "grid_row": null,
            "grid_template_areas": null,
            "grid_template_columns": null,
            "grid_template_rows": null,
            "height": null,
            "justify_content": null,
            "justify_items": null,
            "left": null,
            "margin": null,
            "max_height": null,
            "max_width": null,
            "min_height": null,
            "min_width": null,
            "object_fit": null,
            "object_position": null,
            "order": null,
            "overflow": null,
            "overflow_x": null,
            "overflow_y": null,
            "padding": null,
            "right": null,
            "top": null,
            "visibility": null,
            "width": null
          }
        },
        "d2bf9d28e3794945a627809c60fa6873": {
          "model_module": "@jupyter-widgets/base",
          "model_name": "LayoutModel",
          "model_module_version": "1.2.0",
          "state": {
            "_model_module": "@jupyter-widgets/base",
            "_model_module_version": "1.2.0",
            "_model_name": "LayoutModel",
            "_view_count": null,
            "_view_module": "@jupyter-widgets/base",
            "_view_module_version": "1.2.0",
            "_view_name": "LayoutView",
            "align_content": null,
            "align_items": null,
            "align_self": null,
            "border": null,
            "bottom": null,
            "display": null,
            "flex": null,
            "flex_flow": null,
            "grid_area": null,
            "grid_auto_columns": null,
            "grid_auto_flow": null,
            "grid_auto_rows": null,
            "grid_column": null,
            "grid_gap": null,
            "grid_row": null,
            "grid_template_areas": null,
            "grid_template_columns": null,
            "grid_template_rows": null,
            "height": null,
            "justify_content": null,
            "justify_items": null,
            "left": null,
            "margin": null,
            "max_height": null,
            "max_width": null,
            "min_height": null,
            "min_width": null,
            "object_fit": null,
            "object_position": null,
            "order": null,
            "overflow": null,
            "overflow_x": null,
            "overflow_y": null,
            "padding": null,
            "right": null,
            "top": null,
            "visibility": null,
            "width": null
          }
        },
        "16d851a222ee4d25b30c762569389e5c": {
          "model_module": "@jupyter-widgets/controls",
          "model_name": "DescriptionStyleModel",
          "model_module_version": "1.5.0",
          "state": {
            "_model_module": "@jupyter-widgets/controls",
            "_model_module_version": "1.5.0",
            "_model_name": "DescriptionStyleModel",
            "_view_count": null,
            "_view_module": "@jupyter-widgets/base",
            "_view_module_version": "1.2.0",
            "_view_name": "StyleView",
            "description_width": ""
          }
        },
        "bc9c613253aa4be5884e47c88ddd067e": {
          "model_module": "@jupyter-widgets/base",
          "model_name": "LayoutModel",
          "model_module_version": "1.2.0",
          "state": {
            "_model_module": "@jupyter-widgets/base",
            "_model_module_version": "1.2.0",
            "_model_name": "LayoutModel",
            "_view_count": null,
            "_view_module": "@jupyter-widgets/base",
            "_view_module_version": "1.2.0",
            "_view_name": "LayoutView",
            "align_content": null,
            "align_items": null,
            "align_self": null,
            "border": null,
            "bottom": null,
            "display": null,
            "flex": null,
            "flex_flow": null,
            "grid_area": null,
            "grid_auto_columns": null,
            "grid_auto_flow": null,
            "grid_auto_rows": null,
            "grid_column": null,
            "grid_gap": null,
            "grid_row": null,
            "grid_template_areas": null,
            "grid_template_columns": null,
            "grid_template_rows": null,
            "height": null,
            "justify_content": null,
            "justify_items": null,
            "left": null,
            "margin": null,
            "max_height": null,
            "max_width": null,
            "min_height": null,
            "min_width": null,
            "object_fit": null,
            "object_position": null,
            "order": null,
            "overflow": null,
            "overflow_x": null,
            "overflow_y": null,
            "padding": null,
            "right": null,
            "top": null,
            "visibility": null,
            "width": null
          }
        },
        "5d416a59337e4bb9afd0e230a4cf5e4f": {
          "model_module": "@jupyter-widgets/controls",
          "model_name": "ProgressStyleModel",
          "model_module_version": "1.5.0",
          "state": {
            "_model_module": "@jupyter-widgets/controls",
            "_model_module_version": "1.5.0",
            "_model_name": "ProgressStyleModel",
            "_view_count": null,
            "_view_module": "@jupyter-widgets/base",
            "_view_module_version": "1.2.0",
            "_view_name": "StyleView",
            "bar_color": null,
            "description_width": ""
          }
        },
        "6193b580c4cc43fe81e6e675aaca7034": {
          "model_module": "@jupyter-widgets/base",
          "model_name": "LayoutModel",
          "model_module_version": "1.2.0",
          "state": {
            "_model_module": "@jupyter-widgets/base",
            "_model_module_version": "1.2.0",
            "_model_name": "LayoutModel",
            "_view_count": null,
            "_view_module": "@jupyter-widgets/base",
            "_view_module_version": "1.2.0",
            "_view_name": "LayoutView",
            "align_content": null,
            "align_items": null,
            "align_self": null,
            "border": null,
            "bottom": null,
            "display": null,
            "flex": null,
            "flex_flow": null,
            "grid_area": null,
            "grid_auto_columns": null,
            "grid_auto_flow": null,
            "grid_auto_rows": null,
            "grid_column": null,
            "grid_gap": null,
            "grid_row": null,
            "grid_template_areas": null,
            "grid_template_columns": null,
            "grid_template_rows": null,
            "height": null,
            "justify_content": null,
            "justify_items": null,
            "left": null,
            "margin": null,
            "max_height": null,
            "max_width": null,
            "min_height": null,
            "min_width": null,
            "object_fit": null,
            "object_position": null,
            "order": null,
            "overflow": null,
            "overflow_x": null,
            "overflow_y": null,
            "padding": null,
            "right": null,
            "top": null,
            "visibility": null,
            "width": null
          }
        },
        "b9abb8a96254471ca921130981bec547": {
          "model_module": "@jupyter-widgets/controls",
          "model_name": "DescriptionStyleModel",
          "model_module_version": "1.5.0",
          "state": {
            "_model_module": "@jupyter-widgets/controls",
            "_model_module_version": "1.5.0",
            "_model_name": "DescriptionStyleModel",
            "_view_count": null,
            "_view_module": "@jupyter-widgets/base",
            "_view_module_version": "1.2.0",
            "_view_name": "StyleView",
            "description_width": ""
          }
        }
      }
    }
  },
  "cells": [
    {
      "cell_type": "markdown",
      "source": [
        "Install packages"
      ],
      "metadata": {
        "id": "F6xzFNBkdAdG"
      }
    },
    {
      "cell_type": "code",
      "execution_count": 4,
      "metadata": {
        "colab": {
          "base_uri": "https://localhost:8080/"
        },
        "id": "zOPYJxUiUYI8",
        "outputId": "044a7c35-5630-4056-dfb4-7dff3f3b041e"
      },
      "outputs": [
        {
          "output_type": "stream",
          "name": "stdout",
          "text": [
            "Requirement already satisfied: transformers in /usr/local/lib/python3.11/dist-packages (4.52.4)\n",
            "Requirement already satisfied: torch in /usr/local/lib/python3.11/dist-packages (2.6.0+cu124)\n",
            "Requirement already satisfied: pandas in /usr/local/lib/python3.11/dist-packages (2.2.2)\n",
            "Requirement already satisfied: matplotlib in /usr/local/lib/python3.11/dist-packages (3.10.0)\n",
            "Requirement already satisfied: tqdm in /usr/local/lib/python3.11/dist-packages (4.67.1)\n",
            "Requirement already satisfied: numpy in /usr/local/lib/python3.11/dist-packages (2.0.2)\n",
            "Requirement already satisfied: filelock in /usr/local/lib/python3.11/dist-packages (from transformers) (3.18.0)\n",
            "Requirement already satisfied: huggingface-hub<1.0,>=0.30.0 in /usr/local/lib/python3.11/dist-packages (from transformers) (0.33.0)\n",
            "Requirement already satisfied: packaging>=20.0 in /usr/local/lib/python3.11/dist-packages (from transformers) (24.2)\n",
            "Requirement already satisfied: pyyaml>=5.1 in /usr/local/lib/python3.11/dist-packages (from transformers) (6.0.2)\n",
            "Requirement already satisfied: regex!=2019.12.17 in /usr/local/lib/python3.11/dist-packages (from transformers) (2024.11.6)\n",
            "Requirement already satisfied: requests in /usr/local/lib/python3.11/dist-packages (from transformers) (2.32.3)\n",
            "Requirement already satisfied: tokenizers<0.22,>=0.21 in /usr/local/lib/python3.11/dist-packages (from transformers) (0.21.1)\n",
            "Requirement already satisfied: safetensors>=0.4.3 in /usr/local/lib/python3.11/dist-packages (from transformers) (0.5.3)\n",
            "Requirement already satisfied: typing-extensions>=4.10.0 in /usr/local/lib/python3.11/dist-packages (from torch) (4.14.0)\n",
            "Requirement already satisfied: networkx in /usr/local/lib/python3.11/dist-packages (from torch) (3.5)\n",
            "Requirement already satisfied: jinja2 in /usr/local/lib/python3.11/dist-packages (from torch) (3.1.6)\n",
            "Requirement already satisfied: fsspec in /usr/local/lib/python3.11/dist-packages (from torch) (2025.3.2)\n",
            "Collecting nvidia-cuda-nvrtc-cu12==12.4.127 (from torch)\n",
            "  Downloading nvidia_cuda_nvrtc_cu12-12.4.127-py3-none-manylinux2014_x86_64.whl.metadata (1.5 kB)\n",
            "Collecting nvidia-cuda-runtime-cu12==12.4.127 (from torch)\n",
            "  Downloading nvidia_cuda_runtime_cu12-12.4.127-py3-none-manylinux2014_x86_64.whl.metadata (1.5 kB)\n",
            "Collecting nvidia-cuda-cupti-cu12==12.4.127 (from torch)\n",
            "  Downloading nvidia_cuda_cupti_cu12-12.4.127-py3-none-manylinux2014_x86_64.whl.metadata (1.6 kB)\n",
            "Collecting nvidia-cudnn-cu12==9.1.0.70 (from torch)\n",
            "  Downloading nvidia_cudnn_cu12-9.1.0.70-py3-none-manylinux2014_x86_64.whl.metadata (1.6 kB)\n",
            "Collecting nvidia-cublas-cu12==12.4.5.8 (from torch)\n",
            "  Downloading nvidia_cublas_cu12-12.4.5.8-py3-none-manylinux2014_x86_64.whl.metadata (1.5 kB)\n",
            "Collecting nvidia-cufft-cu12==11.2.1.3 (from torch)\n",
            "  Downloading nvidia_cufft_cu12-11.2.1.3-py3-none-manylinux2014_x86_64.whl.metadata (1.5 kB)\n",
            "Collecting nvidia-curand-cu12==10.3.5.147 (from torch)\n",
            "  Downloading nvidia_curand_cu12-10.3.5.147-py3-none-manylinux2014_x86_64.whl.metadata (1.5 kB)\n",
            "Collecting nvidia-cusolver-cu12==11.6.1.9 (from torch)\n",
            "  Downloading nvidia_cusolver_cu12-11.6.1.9-py3-none-manylinux2014_x86_64.whl.metadata (1.6 kB)\n",
            "Collecting nvidia-cusparse-cu12==12.3.1.170 (from torch)\n",
            "  Downloading nvidia_cusparse_cu12-12.3.1.170-py3-none-manylinux2014_x86_64.whl.metadata (1.6 kB)\n",
            "Requirement already satisfied: nvidia-cusparselt-cu12==0.6.2 in /usr/local/lib/python3.11/dist-packages (from torch) (0.6.2)\n",
            "Requirement already satisfied: nvidia-nccl-cu12==2.21.5 in /usr/local/lib/python3.11/dist-packages (from torch) (2.21.5)\n",
            "Requirement already satisfied: nvidia-nvtx-cu12==12.4.127 in /usr/local/lib/python3.11/dist-packages (from torch) (12.4.127)\n",
            "Collecting nvidia-nvjitlink-cu12==12.4.127 (from torch)\n",
            "  Downloading nvidia_nvjitlink_cu12-12.4.127-py3-none-manylinux2014_x86_64.whl.metadata (1.5 kB)\n",
            "Requirement already satisfied: triton==3.2.0 in /usr/local/lib/python3.11/dist-packages (from torch) (3.2.0)\n",
            "Requirement already satisfied: sympy==1.13.1 in /usr/local/lib/python3.11/dist-packages (from torch) (1.13.1)\n",
            "Requirement already satisfied: mpmath<1.4,>=1.1.0 in /usr/local/lib/python3.11/dist-packages (from sympy==1.13.1->torch) (1.3.0)\n",
            "Requirement already satisfied: python-dateutil>=2.8.2 in /usr/local/lib/python3.11/dist-packages (from pandas) (2.9.0.post0)\n",
            "Requirement already satisfied: pytz>=2020.1 in /usr/local/lib/python3.11/dist-packages (from pandas) (2025.2)\n",
            "Requirement already satisfied: tzdata>=2022.7 in /usr/local/lib/python3.11/dist-packages (from pandas) (2025.2)\n",
            "Requirement already satisfied: contourpy>=1.0.1 in /usr/local/lib/python3.11/dist-packages (from matplotlib) (1.3.2)\n",
            "Requirement already satisfied: cycler>=0.10 in /usr/local/lib/python3.11/dist-packages (from matplotlib) (0.12.1)\n",
            "Requirement already satisfied: fonttools>=4.22.0 in /usr/local/lib/python3.11/dist-packages (from matplotlib) (4.58.4)\n",
            "Requirement already satisfied: kiwisolver>=1.3.1 in /usr/local/lib/python3.11/dist-packages (from matplotlib) (1.4.8)\n",
            "Requirement already satisfied: pillow>=8 in /usr/local/lib/python3.11/dist-packages (from matplotlib) (11.2.1)\n",
            "Requirement already satisfied: pyparsing>=2.3.1 in /usr/local/lib/python3.11/dist-packages (from matplotlib) (3.2.3)\n",
            "Requirement already satisfied: hf-xet<2.0.0,>=1.1.2 in /usr/local/lib/python3.11/dist-packages (from huggingface-hub<1.0,>=0.30.0->transformers) (1.1.3)\n",
            "Requirement already satisfied: six>=1.5 in /usr/local/lib/python3.11/dist-packages (from python-dateutil>=2.8.2->pandas) (1.17.0)\n",
            "Requirement already satisfied: MarkupSafe>=2.0 in /usr/local/lib/python3.11/dist-packages (from jinja2->torch) (3.0.2)\n",
            "Requirement already satisfied: charset-normalizer<4,>=2 in /usr/local/lib/python3.11/dist-packages (from requests->transformers) (3.4.2)\n",
            "Requirement already satisfied: idna<4,>=2.5 in /usr/local/lib/python3.11/dist-packages (from requests->transformers) (3.10)\n",
            "Requirement already satisfied: urllib3<3,>=1.21.1 in /usr/local/lib/python3.11/dist-packages (from requests->transformers) (2.4.0)\n",
            "Requirement already satisfied: certifi>=2017.4.17 in /usr/local/lib/python3.11/dist-packages (from requests->transformers) (2025.6.15)\n",
            "Downloading nvidia_cublas_cu12-12.4.5.8-py3-none-manylinux2014_x86_64.whl (363.4 MB)\n",
            "\u001b[2K   \u001b[90m━━━━━━━━━━━━━━━━━━━━━━━━━━━━━━━━━━━━━━━━\u001b[0m \u001b[32m363.4/363.4 MB\u001b[0m \u001b[31m2.7 MB/s\u001b[0m eta \u001b[36m0:00:00\u001b[0m\n",
            "\u001b[?25hDownloading nvidia_cuda_cupti_cu12-12.4.127-py3-none-manylinux2014_x86_64.whl (13.8 MB)\n",
            "\u001b[2K   \u001b[90m━━━━━━━━━━━━━━━━━━━━━━━━━━━━━━━━━━━━━━━━\u001b[0m \u001b[32m13.8/13.8 MB\u001b[0m \u001b[31m123.9 MB/s\u001b[0m eta \u001b[36m0:00:00\u001b[0m\n",
            "\u001b[?25hDownloading nvidia_cuda_nvrtc_cu12-12.4.127-py3-none-manylinux2014_x86_64.whl (24.6 MB)\n",
            "\u001b[2K   \u001b[90m━━━━━━━━━━━━━━━━━━━━━━━━━━━━━━━━━━━━━━━━\u001b[0m \u001b[32m24.6/24.6 MB\u001b[0m \u001b[31m90.5 MB/s\u001b[0m eta \u001b[36m0:00:00\u001b[0m\n",
            "\u001b[?25hDownloading nvidia_cuda_runtime_cu12-12.4.127-py3-none-manylinux2014_x86_64.whl (883 kB)\n",
            "\u001b[2K   \u001b[90m━━━━━━━━━━━━━━━━━━━━━━━━━━━━━━━━━━━━━━━━\u001b[0m \u001b[32m883.7/883.7 kB\u001b[0m \u001b[31m50.1 MB/s\u001b[0m eta \u001b[36m0:00:00\u001b[0m\n",
            "\u001b[?25hDownloading nvidia_cudnn_cu12-9.1.0.70-py3-none-manylinux2014_x86_64.whl (664.8 MB)\n",
            "\u001b[2K   \u001b[90m━━━━━━━━━━━━━━━━━━━━━━━━━━━━━━━━━━━━━━━━\u001b[0m \u001b[32m664.8/664.8 MB\u001b[0m \u001b[31m1.7 MB/s\u001b[0m eta \u001b[36m0:00:00\u001b[0m\n",
            "\u001b[?25hDownloading nvidia_cufft_cu12-11.2.1.3-py3-none-manylinux2014_x86_64.whl (211.5 MB)\n",
            "\u001b[2K   \u001b[90m━━━━━━━━━━━━━━━━━━━━━━━━━━━━━━━━━━━━━━━━\u001b[0m \u001b[32m211.5/211.5 MB\u001b[0m \u001b[31m4.0 MB/s\u001b[0m eta \u001b[36m0:00:00\u001b[0m\n",
            "\u001b[?25hDownloading nvidia_curand_cu12-10.3.5.147-py3-none-manylinux2014_x86_64.whl (56.3 MB)\n",
            "\u001b[2K   \u001b[90m━━━━━━━━━━━━━━━━━━━━━━━━━━━━━━━━━━━━━━━━\u001b[0m \u001b[32m56.3/56.3 MB\u001b[0m \u001b[31m37.3 MB/s\u001b[0m eta \u001b[36m0:00:00\u001b[0m\n",
            "\u001b[?25hDownloading nvidia_cusolver_cu12-11.6.1.9-py3-none-manylinux2014_x86_64.whl (127.9 MB)\n",
            "\u001b[2K   \u001b[90m━━━━━━━━━━━━━━━━━━━━━━━━━━━━━━━━━━━━━━━━\u001b[0m \u001b[32m127.9/127.9 MB\u001b[0m \u001b[31m16.8 MB/s\u001b[0m eta \u001b[36m0:00:00\u001b[0m\n",
            "\u001b[?25hDownloading nvidia_cusparse_cu12-12.3.1.170-py3-none-manylinux2014_x86_64.whl (207.5 MB)\n",
            "\u001b[2K   \u001b[90m━━━━━━━━━━━━━━━━━━━━━━━━━━━━━━━━━━━━━━━━\u001b[0m \u001b[32m207.5/207.5 MB\u001b[0m \u001b[31m3.4 MB/s\u001b[0m eta \u001b[36m0:00:00\u001b[0m\n",
            "\u001b[?25hDownloading nvidia_nvjitlink_cu12-12.4.127-py3-none-manylinux2014_x86_64.whl (21.1 MB)\n",
            "\u001b[2K   \u001b[90m━━━━━━━━━━━━━━━━━━━━━━━━━━━━━━━━━━━━━━━━\u001b[0m \u001b[32m21.1/21.1 MB\u001b[0m \u001b[31m108.9 MB/s\u001b[0m eta \u001b[36m0:00:00\u001b[0m\n",
            "\u001b[?25hInstalling collected packages: nvidia-nvjitlink-cu12, nvidia-curand-cu12, nvidia-cufft-cu12, nvidia-cuda-runtime-cu12, nvidia-cuda-nvrtc-cu12, nvidia-cuda-cupti-cu12, nvidia-cublas-cu12, nvidia-cusparse-cu12, nvidia-cudnn-cu12, nvidia-cusolver-cu12\n",
            "  Attempting uninstall: nvidia-nvjitlink-cu12\n",
            "    Found existing installation: nvidia-nvjitlink-cu12 12.5.82\n",
            "    Uninstalling nvidia-nvjitlink-cu12-12.5.82:\n",
            "      Successfully uninstalled nvidia-nvjitlink-cu12-12.5.82\n",
            "  Attempting uninstall: nvidia-curand-cu12\n",
            "    Found existing installation: nvidia-curand-cu12 10.3.6.82\n",
            "    Uninstalling nvidia-curand-cu12-10.3.6.82:\n",
            "      Successfully uninstalled nvidia-curand-cu12-10.3.6.82\n",
            "  Attempting uninstall: nvidia-cufft-cu12\n",
            "    Found existing installation: nvidia-cufft-cu12 11.2.3.61\n",
            "    Uninstalling nvidia-cufft-cu12-11.2.3.61:\n",
            "      Successfully uninstalled nvidia-cufft-cu12-11.2.3.61\n",
            "  Attempting uninstall: nvidia-cuda-runtime-cu12\n",
            "    Found existing installation: nvidia-cuda-runtime-cu12 12.5.82\n",
            "    Uninstalling nvidia-cuda-runtime-cu12-12.5.82:\n",
            "      Successfully uninstalled nvidia-cuda-runtime-cu12-12.5.82\n",
            "  Attempting uninstall: nvidia-cuda-nvrtc-cu12\n",
            "    Found existing installation: nvidia-cuda-nvrtc-cu12 12.5.82\n",
            "    Uninstalling nvidia-cuda-nvrtc-cu12-12.5.82:\n",
            "      Successfully uninstalled nvidia-cuda-nvrtc-cu12-12.5.82\n",
            "  Attempting uninstall: nvidia-cuda-cupti-cu12\n",
            "    Found existing installation: nvidia-cuda-cupti-cu12 12.5.82\n",
            "    Uninstalling nvidia-cuda-cupti-cu12-12.5.82:\n",
            "      Successfully uninstalled nvidia-cuda-cupti-cu12-12.5.82\n",
            "  Attempting uninstall: nvidia-cublas-cu12\n",
            "    Found existing installation: nvidia-cublas-cu12 12.5.3.2\n",
            "    Uninstalling nvidia-cublas-cu12-12.5.3.2:\n",
            "      Successfully uninstalled nvidia-cublas-cu12-12.5.3.2\n",
            "  Attempting uninstall: nvidia-cusparse-cu12\n",
            "    Found existing installation: nvidia-cusparse-cu12 12.5.1.3\n",
            "    Uninstalling nvidia-cusparse-cu12-12.5.1.3:\n",
            "      Successfully uninstalled nvidia-cusparse-cu12-12.5.1.3\n",
            "  Attempting uninstall: nvidia-cudnn-cu12\n",
            "    Found existing installation: nvidia-cudnn-cu12 9.3.0.75\n",
            "    Uninstalling nvidia-cudnn-cu12-9.3.0.75:\n",
            "      Successfully uninstalled nvidia-cudnn-cu12-9.3.0.75\n",
            "  Attempting uninstall: nvidia-cusolver-cu12\n",
            "    Found existing installation: nvidia-cusolver-cu12 11.6.3.83\n",
            "    Uninstalling nvidia-cusolver-cu12-11.6.3.83:\n",
            "      Successfully uninstalled nvidia-cusolver-cu12-11.6.3.83\n",
            "Successfully installed nvidia-cublas-cu12-12.4.5.8 nvidia-cuda-cupti-cu12-12.4.127 nvidia-cuda-nvrtc-cu12-12.4.127 nvidia-cuda-runtime-cu12-12.4.127 nvidia-cudnn-cu12-9.1.0.70 nvidia-cufft-cu12-11.2.1.3 nvidia-curand-cu12-10.3.5.147 nvidia-cusolver-cu12-11.6.1.9 nvidia-cusparse-cu12-12.3.1.170 nvidia-nvjitlink-cu12-12.4.127\n"
          ]
        }
      ],
      "source": [
        "!pip install transformers torch pandas matplotlib tqdm numpy"
      ]
    },
    {
      "cell_type": "markdown",
      "source": [
        "Import libraries and setup"
      ],
      "metadata": {
        "id": "hMpI1cxncucq"
      }
    },
    {
      "cell_type": "code",
      "source": [
        "import os\n",
        "import pandas as pd\n",
        "from transformers import AutoTokenizer, AutoModelForSequenceClassification\n",
        "import torch\n",
        "import matplotlib.pyplot as plt\n",
        "import zipfile\n",
        "from tqdm import tqdm\n",
        "import numpy as np\n",
        "from datetime import datetime\n",
        "from google.colab import files as colab_files\n",
        "from google.colab import drive\n",
        "\n",
        "print(datetime.now())\n",
        "print(\"✅ Environment ready.\")"
      ],
      "metadata": {
        "colab": {
          "base_uri": "https://localhost:8080/"
        },
        "id": "A5L2mmxFcu0z",
        "outputId": "63e9c312-a236-4787-94ca-d3a3f579dfd2"
      },
      "execution_count": 5,
      "outputs": [
        {
          "output_type": "stream",
          "name": "stdout",
          "text": [
            "2025-06-24 09:46:58.655882\n",
            "✅ Environment ready.\n"
          ]
        }
      ]
    },
    {
      "cell_type": "markdown",
      "source": [
        "Upload files directly to Colab (alternative to Drive)"
      ],
      "metadata": {
        "id": "jmALmvCfVeF_"
      }
    },
    {
      "cell_type": "code",
      "source": [
        "print(\"Upload your CSV files or ZIP folders:\")\n",
        "uploaded = colab_files.upload()\n",
        "\n"
      ],
      "metadata": {
        "colab": {
          "base_uri": "https://localhost:8080/",
          "height": 90
        },
        "id": "grArcB7iVWF_",
        "outputId": "738b7288-dc8c-418b-83a9-b04717dce90c"
      },
      "execution_count": 6,
      "outputs": [
        {
          "output_type": "stream",
          "name": "stdout",
          "text": [
            "Upload your CSV files or ZIP folders:\n"
          ]
        },
        {
          "output_type": "display_data",
          "data": {
            "text/plain": [
              "<IPython.core.display.HTML object>"
            ],
            "text/html": [
              "\n",
              "     <input type=\"file\" id=\"files-a3b689f7-3155-4ad7-9e1c-15580b589fa6\" name=\"files[]\" multiple disabled\n",
              "        style=\"border:none\" />\n",
              "     <output id=\"result-a3b689f7-3155-4ad7-9e1c-15580b589fa6\">\n",
              "      Upload widget is only available when the cell has been executed in the\n",
              "      current browser session. Please rerun this cell to enable.\n",
              "      </output>\n",
              "      <script>// Copyright 2017 Google LLC\n",
              "//\n",
              "// Licensed under the Apache License, Version 2.0 (the \"License\");\n",
              "// you may not use this file except in compliance with the License.\n",
              "// You may obtain a copy of the License at\n",
              "//\n",
              "//      http://www.apache.org/licenses/LICENSE-2.0\n",
              "//\n",
              "// Unless required by applicable law or agreed to in writing, software\n",
              "// distributed under the License is distributed on an \"AS IS\" BASIS,\n",
              "// WITHOUT WARRANTIES OR CONDITIONS OF ANY KIND, either express or implied.\n",
              "// See the License for the specific language governing permissions and\n",
              "// limitations under the License.\n",
              "\n",
              "/**\n",
              " * @fileoverview Helpers for google.colab Python module.\n",
              " */\n",
              "(function(scope) {\n",
              "function span(text, styleAttributes = {}) {\n",
              "  const element = document.createElement('span');\n",
              "  element.textContent = text;\n",
              "  for (const key of Object.keys(styleAttributes)) {\n",
              "    element.style[key] = styleAttributes[key];\n",
              "  }\n",
              "  return element;\n",
              "}\n",
              "\n",
              "// Max number of bytes which will be uploaded at a time.\n",
              "const MAX_PAYLOAD_SIZE = 100 * 1024;\n",
              "\n",
              "function _uploadFiles(inputId, outputId) {\n",
              "  const steps = uploadFilesStep(inputId, outputId);\n",
              "  const outputElement = document.getElementById(outputId);\n",
              "  // Cache steps on the outputElement to make it available for the next call\n",
              "  // to uploadFilesContinue from Python.\n",
              "  outputElement.steps = steps;\n",
              "\n",
              "  return _uploadFilesContinue(outputId);\n",
              "}\n",
              "\n",
              "// This is roughly an async generator (not supported in the browser yet),\n",
              "// where there are multiple asynchronous steps and the Python side is going\n",
              "// to poll for completion of each step.\n",
              "// This uses a Promise to block the python side on completion of each step,\n",
              "// then passes the result of the previous step as the input to the next step.\n",
              "function _uploadFilesContinue(outputId) {\n",
              "  const outputElement = document.getElementById(outputId);\n",
              "  const steps = outputElement.steps;\n",
              "\n",
              "  const next = steps.next(outputElement.lastPromiseValue);\n",
              "  return Promise.resolve(next.value.promise).then((value) => {\n",
              "    // Cache the last promise value to make it available to the next\n",
              "    // step of the generator.\n",
              "    outputElement.lastPromiseValue = value;\n",
              "    return next.value.response;\n",
              "  });\n",
              "}\n",
              "\n",
              "/**\n",
              " * Generator function which is called between each async step of the upload\n",
              " * process.\n",
              " * @param {string} inputId Element ID of the input file picker element.\n",
              " * @param {string} outputId Element ID of the output display.\n",
              " * @return {!Iterable<!Object>} Iterable of next steps.\n",
              " */\n",
              "function* uploadFilesStep(inputId, outputId) {\n",
              "  const inputElement = document.getElementById(inputId);\n",
              "  inputElement.disabled = false;\n",
              "\n",
              "  const outputElement = document.getElementById(outputId);\n",
              "  outputElement.innerHTML = '';\n",
              "\n",
              "  const pickedPromise = new Promise((resolve) => {\n",
              "    inputElement.addEventListener('change', (e) => {\n",
              "      resolve(e.target.files);\n",
              "    });\n",
              "  });\n",
              "\n",
              "  const cancel = document.createElement('button');\n",
              "  inputElement.parentElement.appendChild(cancel);\n",
              "  cancel.textContent = 'Cancel upload';\n",
              "  const cancelPromise = new Promise((resolve) => {\n",
              "    cancel.onclick = () => {\n",
              "      resolve(null);\n",
              "    };\n",
              "  });\n",
              "\n",
              "  // Wait for the user to pick the files.\n",
              "  const files = yield {\n",
              "    promise: Promise.race([pickedPromise, cancelPromise]),\n",
              "    response: {\n",
              "      action: 'starting',\n",
              "    }\n",
              "  };\n",
              "\n",
              "  cancel.remove();\n",
              "\n",
              "  // Disable the input element since further picks are not allowed.\n",
              "  inputElement.disabled = true;\n",
              "\n",
              "  if (!files) {\n",
              "    return {\n",
              "      response: {\n",
              "        action: 'complete',\n",
              "      }\n",
              "    };\n",
              "  }\n",
              "\n",
              "  for (const file of files) {\n",
              "    const li = document.createElement('li');\n",
              "    li.append(span(file.name, {fontWeight: 'bold'}));\n",
              "    li.append(span(\n",
              "        `(${file.type || 'n/a'}) - ${file.size} bytes, ` +\n",
              "        `last modified: ${\n",
              "            file.lastModifiedDate ? file.lastModifiedDate.toLocaleDateString() :\n",
              "                                    'n/a'} - `));\n",
              "    const percent = span('0% done');\n",
              "    li.appendChild(percent);\n",
              "\n",
              "    outputElement.appendChild(li);\n",
              "\n",
              "    const fileDataPromise = new Promise((resolve) => {\n",
              "      const reader = new FileReader();\n",
              "      reader.onload = (e) => {\n",
              "        resolve(e.target.result);\n",
              "      };\n",
              "      reader.readAsArrayBuffer(file);\n",
              "    });\n",
              "    // Wait for the data to be ready.\n",
              "    let fileData = yield {\n",
              "      promise: fileDataPromise,\n",
              "      response: {\n",
              "        action: 'continue',\n",
              "      }\n",
              "    };\n",
              "\n",
              "    // Use a chunked sending to avoid message size limits. See b/62115660.\n",
              "    let position = 0;\n",
              "    do {\n",
              "      const length = Math.min(fileData.byteLength - position, MAX_PAYLOAD_SIZE);\n",
              "      const chunk = new Uint8Array(fileData, position, length);\n",
              "      position += length;\n",
              "\n",
              "      const base64 = btoa(String.fromCharCode.apply(null, chunk));\n",
              "      yield {\n",
              "        response: {\n",
              "          action: 'append',\n",
              "          file: file.name,\n",
              "          data: base64,\n",
              "        },\n",
              "      };\n",
              "\n",
              "      let percentDone = fileData.byteLength === 0 ?\n",
              "          100 :\n",
              "          Math.round((position / fileData.byteLength) * 100);\n",
              "      percent.textContent = `${percentDone}% done`;\n",
              "\n",
              "    } while (position < fileData.byteLength);\n",
              "  }\n",
              "\n",
              "  // All done.\n",
              "  yield {\n",
              "    response: {\n",
              "      action: 'complete',\n",
              "    }\n",
              "  };\n",
              "}\n",
              "\n",
              "scope.google = scope.google || {};\n",
              "scope.google.colab = scope.google.colab || {};\n",
              "scope.google.colab._files = {\n",
              "  _uploadFiles,\n",
              "  _uploadFilesContinue,\n",
              "};\n",
              "})(self);\n",
              "</script> "
            ]
          },
          "metadata": {}
        },
        {
          "output_type": "stream",
          "name": "stdout",
          "text": [
            "Saving cluster_files.zip to cluster_files.zip\n"
          ]
        }
      ]
    },
    {
      "cell_type": "markdown",
      "source": [
        "Create directory for uploaded files"
      ],
      "metadata": {
        "id": "V8QHcJ-DVi8T"
      }
    },
    {
      "cell_type": "code",
      "source": [
        "os.makedirs('/content/data', exist_ok=True)\n",
        "\n",
        "for filename in uploaded.keys():\n",
        "    file_path = f'/content/{filename}'\n",
        "\n",
        "    # Check if it's a ZIP file\n",
        "    if filename.lower().endswith('.zip'):\n",
        "        print(f\"📦 Extracting ZIP file: {filename}\")\n",
        "        with zipfile.ZipFile(file_path, 'r') as zip_ref:\n",
        "            zip_ref.extractall('/content/data')\n",
        "        os.remove(file_path)  # Remove the ZIP file after extraction\n",
        "        print(f\"✅ Extracted: {filename}\")\n",
        "    else:\n",
        "        # Move regular files to data directory\n",
        "        os.rename(file_path, f'/content/data/{filename}')\n",
        "        print(f\"✅ Uploaded: {filename}\")\n",
        "\n",
        "# Show what we have in the data directory\n",
        "print(\"\\n📁 Contents of /content/data:\")\n",
        "for root, dirs, files in os.walk('/content/data'):\n",
        "    level = root.replace('/content/data', '').count(os.sep)\n",
        "    indent = ' ' * 2 * level\n",
        "    print(f\"{indent}{os.path.basename(root)}/\")\n",
        "    subindent = ' ' * 2 * (level + 1)\n",
        "    for file in files:\n",
        "        print(f\"{subindent}{file}\")"
      ],
      "metadata": {
        "colab": {
          "base_uri": "https://localhost:8080/"
        },
        "id": "81YTAN8FVa_z",
        "outputId": "1cb01959-8de0-45fa-db8d-3e1e6e50914b"
      },
      "execution_count": 7,
      "outputs": [
        {
          "output_type": "stream",
          "name": "stdout",
          "text": [
            "📦 Extracting ZIP file: cluster_files.zip\n",
            "✅ Extracted: cluster_files.zip\n",
            "\n",
            "📁 Contents of /content/data:\n",
            "data/\n",
            "  cluster_files/\n",
            "    feminism_clustered_texts_after.csv\n",
            "    MensRights_clustered_after.csv\n",
            "    feminsim_clustered_texts_before.csv\n",
            "    LGBT_clustered_after.csv\n",
            "    LGBT_clustered_before.csv\n",
            "    MensRights_clustered_before.csv\n"
          ]
        }
      ]
    },
    {
      "cell_type": "markdown",
      "source": [
        "Load sentiment analysis model"
      ],
      "metadata": {
        "id": "D8M3CsM3XjeO"
      }
    },
    {
      "cell_type": "code",
      "source": [
        "model_name = \"cardiffnlp/twitter-roberta-base-sentiment\"\n",
        "print(\"🔄 Loading tokenizer and model...\")\n",
        "tokenizer = AutoTokenizer.from_pretrained(model_name, use_fast=True)\n",
        "tokenizer.model_max_length = 512\n",
        "model = AutoModelForSequenceClassification.from_pretrained(model_name)\n",
        "\n",
        "id2label = {0: \"Negative\", 1: \"Neutral\", 2: \"Positive\"}\n",
        "labels = [id2label[i] for i in range(len(id2label))]\n"
      ],
      "metadata": {
        "colab": {
          "base_uri": "https://localhost:8080/",
          "height": 318,
          "referenced_widgets": [
            "20d7f1fdf5594459a5bbb2ff3251eb14",
            "6fd5af7266874bc4b5d5ccd115ec9a81",
            "e69b60f4e84a41799e56c9b95c886806",
            "f6e719cb4daf4c2c88a1f63445a4a53c",
            "534b1fd28a6d4874a8bf8102f527da68",
            "0ffd713af3d74bb8b7a4e6f4a93b3f85",
            "f94959f3ae704b0a8413add2f95c84c6",
            "f54c12f132294bae8248ed2e8d486a12",
            "6267ee98ec074b92893b8bb0fd83cbf4",
            "3f9c11e1f0d34a17bf49ef7bacde8220",
            "f4d80cb1b69b4608af730e1940ba7047",
            "40dd587f7e434867a1adbb531cdd83bc",
            "bafdc7cc1c3f428ea39aa275570b1172",
            "503e01603ebe48a9a414a41532c53ba8",
            "b6466d4130144ef68be40c096161684f",
            "e884d0559d634cfa9c33b4de56d23222",
            "a47a21faaf584a35a4a479249d08dc28",
            "6f72487262cb43bb8916e4ec35b1458d",
            "1b4e1c2563f249dc82739b16a1230601",
            "eb74c0fd11c94104813b023dcc429f85",
            "59f79feadf874309b2469c5be2ce22ae",
            "4f499881bfb8415ebd6f62518f4dea15",
            "6f9c211d44284ece813093beefc6c1bb",
            "a21f5211a1954c878f6e5eebd42c4fb0",
            "2827197cf8ce46838a05713b4107b2e9",
            "62404bffafd94e88971f101fc51063e4",
            "9aea0bc04999405a88b89d7f186b0556",
            "aff57746e00b44d9a466887f76cc26c6",
            "39559039565342b791bb9958a29f8ec1",
            "6cad16ac5d3e47058c262bf092ceeb50",
            "c9eb9c0bc7ce45259988add230db822b",
            "14a1d471f0154698a7d4a14a2763614c",
            "8354280693994c1ea081b8fa0cd33074",
            "5ae0f38e20e340b3ab6a86a31ff3ed7e",
            "1e74e534e04a418587f3f63e714ad541",
            "52e3cde696774b89804a56a24b9ca769",
            "d9eead2d4e2a438fb0f1aa4d42e72c12",
            "3778d27b20ec4e3bb2cc5337432483a4",
            "3b76e07f281e4ec4a29500e9aff99ed7",
            "52c6fddcdc134213b64469bba2ad57de",
            "0a7a0b0c0bc64611bc6b58f054bbb011",
            "f2ceba1ac76d44d18db941c5ead1b4d7",
            "3834c36c03ed431a8a4e8c501047def6",
            "b20a996c4bf74325a6f6ce9a95258a25",
            "b4797f3bd05a46268a0e8027d270236d",
            "fd4879ab077748aca3fa45652a603063",
            "41264e44c4c040e083efa4c129733d13",
            "562bfff3b13542199ede6f205582e2c3",
            "7ea7e6359a1145e58c936b8094b9a5c9",
            "d2bf9d28e3794945a627809c60fa6873",
            "16d851a222ee4d25b30c762569389e5c",
            "bc9c613253aa4be5884e47c88ddd067e",
            "5d416a59337e4bb9afd0e230a4cf5e4f",
            "6193b580c4cc43fe81e6e675aaca7034",
            "b9abb8a96254471ca921130981bec547"
          ]
        },
        "id": "EglU05DNWoZF",
        "outputId": "b21b2784-df7f-4d53-c6ba-1b6448684dc6"
      },
      "execution_count": 8,
      "outputs": [
        {
          "output_type": "stream",
          "name": "stdout",
          "text": [
            "🔄 Loading tokenizer and model...\n"
          ]
        },
        {
          "output_type": "stream",
          "name": "stderr",
          "text": [
            "/usr/local/lib/python3.11/dist-packages/huggingface_hub/utils/_auth.py:94: UserWarning: \n",
            "The secret `HF_TOKEN` does not exist in your Colab secrets.\n",
            "To authenticate with the Hugging Face Hub, create a token in your settings tab (https://huggingface.co/settings/tokens), set it as secret in your Google Colab and restart your session.\n",
            "You will be able to reuse this secret in all of your notebooks.\n",
            "Please note that authentication is recommended but still optional to access public models or datasets.\n",
            "  warnings.warn(\n"
          ]
        },
        {
          "output_type": "display_data",
          "data": {
            "text/plain": [
              "config.json:   0%|          | 0.00/747 [00:00<?, ?B/s]"
            ],
            "application/vnd.jupyter.widget-view+json": {
              "version_major": 2,
              "version_minor": 0,
              "model_id": "20d7f1fdf5594459a5bbb2ff3251eb14"
            }
          },
          "metadata": {}
        },
        {
          "output_type": "display_data",
          "data": {
            "text/plain": [
              "vocab.json:   0%|          | 0.00/899k [00:00<?, ?B/s]"
            ],
            "application/vnd.jupyter.widget-view+json": {
              "version_major": 2,
              "version_minor": 0,
              "model_id": "40dd587f7e434867a1adbb531cdd83bc"
            }
          },
          "metadata": {}
        },
        {
          "output_type": "display_data",
          "data": {
            "text/plain": [
              "merges.txt:   0%|          | 0.00/456k [00:00<?, ?B/s]"
            ],
            "application/vnd.jupyter.widget-view+json": {
              "version_major": 2,
              "version_minor": 0,
              "model_id": "6f9c211d44284ece813093beefc6c1bb"
            }
          },
          "metadata": {}
        },
        {
          "output_type": "display_data",
          "data": {
            "text/plain": [
              "special_tokens_map.json:   0%|          | 0.00/150 [00:00<?, ?B/s]"
            ],
            "application/vnd.jupyter.widget-view+json": {
              "version_major": 2,
              "version_minor": 0,
              "model_id": "5ae0f38e20e340b3ab6a86a31ff3ed7e"
            }
          },
          "metadata": {}
        },
        {
          "output_type": "display_data",
          "data": {
            "text/plain": [
              "pytorch_model.bin:   0%|          | 0.00/499M [00:00<?, ?B/s]"
            ],
            "application/vnd.jupyter.widget-view+json": {
              "version_major": 2,
              "version_minor": 0,
              "model_id": "b4797f3bd05a46268a0e8027d270236d"
            }
          },
          "metadata": {}
        }
      ]
    },
    {
      "cell_type": "markdown",
      "source": [
        "use GPU if available on Colab"
      ],
      "metadata": {
        "id": "9rlh22UZXmUf"
      }
    },
    {
      "cell_type": "code",
      "source": [
        "device = torch.device(\"cuda\" if torch.cuda.is_available() else \"cpu\")\n",
        "model.to(device)\n",
        "\n",
        "print(\"🔍 CUDA Available:\", torch.cuda.is_available())\n",
        "if torch.cuda.is_available():\n",
        "    print(\"🖥️ Using GPU:\", torch.cuda.get_device_name(0))\n",
        "else:\n",
        "    print(\"⚠️ Running on CPU\")\n"
      ],
      "metadata": {
        "colab": {
          "base_uri": "https://localhost:8080/"
        },
        "id": "VwSbpEglWwAx",
        "outputId": "bbf9a1dd-f5b6-4e59-e736-8afa4dc9b0ca"
      },
      "execution_count": 9,
      "outputs": [
        {
          "output_type": "stream",
          "name": "stdout",
          "text": [
            "🔍 CUDA Available: True\n",
            "🖥️ Using GPU: NVIDIA L4\n"
          ]
        }
      ]
    },
    {
      "cell_type": "markdown",
      "source": [
        "Define helper functions"
      ],
      "metadata": {
        "id": "H9jHYbtFeCwN"
      }
    },
    {
      "cell_type": "code",
      "source": [
        "def find_csv_files(root_dir=\"/content/data\"):\n",
        "    \"\"\"Find CSV files in the specified directory and all subdirectories\"\"\"\n",
        "    csv_files, file_paths = [], []\n",
        "\n",
        "    print(f\"🔍 Searching for CSV files in: {root_dir}\")\n",
        "\n",
        "    # Walk through all directories and subdirectories\n",
        "    for root, dirs, files in os.walk(root_dir):\n",
        "        for file in files:\n",
        "            if file.endswith('.csv') and '_with_sentiment' not in file:\n",
        "                csv_files.append(file)\n",
        "                file_paths.append(os.path.join(root, file))\n",
        "                print(f\"  Found: {file} in {root}\")\n",
        "\n",
        "    if not csv_files:\n",
        "        print(\"❌ No CSV files found!\")\n",
        "        print(\"📁 Current directory structure:\")\n",
        "        for root, dirs, files in os.walk(root_dir):\n",
        "            level = root.replace(root_dir, '').count(os.sep)\n",
        "            indent = ' ' * 2 * level\n",
        "            print(f\"{indent}{os.path.basename(root)}/\")\n",
        "            subindent = ' ' * 2 * (level + 1)\n",
        "            for file in files[:5]:  # Show first 5 files\n",
        "                print(f\"{subindent}{file}\")\n",
        "            if len(files) > 5:\n",
        "                print(f\"{subindent}... and {len(files) - 5} more files\")\n",
        "\n",
        "    return csv_files, file_paths, root_dir\n",
        "\n",
        "def classify_batch(texts, batch_size=16):\n",
        "    \"\"\"Classify sentiment for a batch of texts\"\"\"\n",
        "    all_sentiments, all_confidences, all_top_labels, all_scores = [], [], [], []\n",
        "\n",
        "    for i in tqdm(range(0, len(texts), batch_size), desc=\"Processing batches\"):\n",
        "        batch_texts = texts[i:i+batch_size]\n",
        "        processed_texts = [\"No content\" if pd.isna(t) or str(t).strip() == \"\" else str(t)[:2000] for t in batch_texts]\n",
        "\n",
        "        encoded = tokenizer(processed_texts, return_tensors=\"pt\", truncation=True, padding=True, max_length=512)\n",
        "        encoded = {k: v.to(device) for k, v in encoded.items()}\n",
        "\n",
        "        with torch.no_grad():\n",
        "            outputs = model(**encoded)\n",
        "            scores = torch.nn.functional.softmax(outputs.logits, dim=1)\n",
        "\n",
        "        for score in scores:\n",
        "            idx = torch.argmax(score).item()\n",
        "            label = labels[idx]\n",
        "            confidence = score[idx].item()\n",
        "            final_sentiment = \"Uncertain\" if confidence < 0.6 else label\n",
        "\n",
        "            all_sentiments.append(final_sentiment)\n",
        "            all_confidences.append(confidence)\n",
        "            all_top_labels.append(label)\n",
        "            all_scores.append({\n",
        "                'negative_score': score[0].item(),\n",
        "                'neutral_score': score[1].item(),\n",
        "                'positive_score': score[2].item()\n",
        "            })\n",
        "\n",
        "    return all_sentiments, all_confidences, all_top_labels, all_scores\n",
        "\n",
        "def plot_cluster_sentiment_comparison(cluster_df, filename, output_dir=\"/content/results\"):\n",
        "    \"\"\"Create sentiment distribution plots by cluster\"\"\"\n",
        "    os.makedirs(output_dir, exist_ok=True)\n",
        "\n",
        "    plt.figure(figsize=(15, 8))\n",
        "    clusters = cluster_df['cluster_name']\n",
        "    bottom_neutral = cluster_df['negative_pct']\n",
        "    bottom_positive = cluster_df['negative_pct'] + cluster_df['neutral_pct']\n",
        "    bottom_uncertain = cluster_df['negative_pct'] + cluster_df['neutral_pct'] + cluster_df['positive_pct']\n",
        "\n",
        "    plt.bar(clusters, cluster_df['negative_pct'], label='Negative', color='#ff6b6b', alpha=0.8)\n",
        "    plt.bar(clusters, cluster_df['neutral_pct'], bottom=bottom_neutral, label='Neutral', color='#ffd93d', alpha=0.8)\n",
        "    plt.bar(clusters, cluster_df['positive_pct'], bottom=bottom_positive, label='Positive', color='#6bcf7f', alpha=0.8)\n",
        "    plt.bar(clusters, cluster_df['uncertain_pct'], bottom=bottom_uncertain, label='Uncertain', color='#a8a8a8', alpha=0.8)\n",
        "\n",
        "    # Title mapping\n",
        "    title_map = {\n",
        "        \"mensrights_clustered_before.csv\": \"Sentiment Distribution by Cluster in r/MensRights Pre-Election\",\n",
        "        \"mensrights_clustered_after.csv\": \"Sentiment Distribution by Cluster in r/MensRights Post-Election\",\n",
        "        \"feminism_clustered_before.csv\": \"Sentiment Distribution by Cluster in r/Feminism Pre-Election\",\n",
        "        \"feminism_clustered_after.csv\": \"Sentiment Distribution by Cluster in r/Feminism Post-Election\",\n",
        "        \"lgbt_clustered_before.csv\": \"Sentiment Distribution by Cluster in r/LGBT Pre-Election\",\n",
        "        \"lgbt_clustered_after.csv\": \"Sentiment Distribution by Cluster in r/LGBT Post-Election\"\n",
        "    }\n",
        "\n",
        "    plot_title = title_map.get(filename.lower(), f\"Sentiment Distribution by Cluster\\n{filename}\")\n",
        "    plt.title(plot_title, fontsize=14, fontweight='bold')\n",
        "    plt.xlabel('Clusters')\n",
        "    plt.ylabel('Percentage of Posts')\n",
        "    plt.xticks(rotation=45, ha='right')\n",
        "    plt.grid(True, alpha=0.3)\n",
        "    plt.legend()\n",
        "    plt.tight_layout()\n",
        "\n",
        "    plot_path = os.path.join(output_dir, filename.replace(\".csv\", \"_cluster_sentiment_distribution.png\"))\n",
        "    plt.savefig(plot_path, dpi=300, bbox_inches='tight')\n",
        "    plt.show()  # Display in Colab\n",
        "    plt.close()\n",
        "    print(f\"📊 Saved cluster sentiment distribution: {plot_path}\")"
      ],
      "metadata": {
        "id": "7leBP_3neA2D"
      },
      "execution_count": 10,
      "outputs": []
    },
    {
      "cell_type": "markdown",
      "source": [
        "Main processing function"
      ],
      "metadata": {
        "id": "9MBVqa2keZ2L"
      }
    },
    {
      "cell_type": "code",
      "source": [
        "def process_files():\n",
        "    \"\"\"Process all CSV files for sentiment analysis\"\"\"\n",
        "    csv_files, csv_file_paths, input_folder = find_csv_files()\n",
        "    output_folder = \"/content/results\"\n",
        "    os.makedirs(output_folder, exist_ok=True)\n",
        "\n",
        "    if not csv_files:\n",
        "        print(\"❌ No CSV files found to process!\")\n",
        "        print(\"\\n🔧 Troubleshooting steps:\")\n",
        "        print(\"1. Make sure you uploaded CSV files or a ZIP containing CSV files\")\n",
        "        print(\"2. Check that CSV files don't have '_with_sentiment' in their names\")\n",
        "        print(\"3. Verify file extensions are .csv (case sensitive)\")\n",
        "        return\n",
        "\n",
        "    print(f\"📂 Found {len(csv_files)} CSV files:\")\n",
        "    for i, (filename, filepath) in enumerate(zip(csv_files, csv_file_paths)):\n",
        "        print(f\"  {i+1}. {filename} → {filepath}\")\n",
        "\n",
        "    required_cols = ['text', 'cluster', 'cluster_name', 'source']\n",
        "\n",
        "    for filename, file_path in zip(csv_files, csv_file_paths):\n",
        "        print(f\"\\n🔄 Processing: {filename}\")\n",
        "        try:\n",
        "            df = pd.read_csv(file_path)\n",
        "            print(f\"📊 Loaded {len(df)} rows from {filename}\")\n",
        "\n",
        "            # Show available columns\n",
        "            print(f\"📋 Available columns: {list(df.columns)}\")\n",
        "\n",
        "            # Check for required columns (be more flexible)\n",
        "            missing = [col for col in required_cols if col not in df.columns]\n",
        "            if missing:\n",
        "                print(f\"⚠️ Missing columns in {filename}: {missing}\")\n",
        "\n",
        "                # Try to find text column with different names\n",
        "                text_col = None\n",
        "                for col in df.columns:\n",
        "                    if 'text' in col.lower() or 'content' in col.lower() or 'body' in col.lower():\n",
        "                        text_col = col\n",
        "                        break\n",
        "\n",
        "                if text_col:\n",
        "                    print(f\"✅ Found text column: '{text_col}', using it instead of 'text'\")\n",
        "                    df = df.rename(columns={text_col: 'text'})\n",
        "                else:\n",
        "                    print(f\"❌ No text column found. Available columns: {list(df.columns)}\")\n",
        "                    continue\n",
        "\n",
        "            # Process sentiment analysis\n",
        "            texts = df['text'].tolist()\n",
        "            print(f\"📊 Analyzing sentiment for {len(texts)} texts...\")\n",
        "\n",
        "            sentiments, confidences, top_labels, raw_scores = classify_batch(texts)\n",
        "\n",
        "            # Add results to dataframe\n",
        "            df['sentiment'] = sentiments\n",
        "            df['confidence'] = confidences\n",
        "            df['raw_prediction'] = top_labels\n",
        "\n",
        "            # Add individual sentiment scores\n",
        "            scores_df = pd.DataFrame(raw_scores)\n",
        "            df = pd.concat([df, scores_df], axis=1)\n",
        "\n",
        "            # Save results\n",
        "            output_path = os.path.join(output_folder, filename.replace(\".csv\", \"_with_sentiment.csv\"))\n",
        "            df.to_csv(output_path, index=False)\n",
        "            print(f\"💾 Saved individual results: {output_path}\")\n",
        "\n",
        "            # Display sample results\n",
        "            print(f\"📋 Sample results from {filename}:\")\n",
        "            sample_df = df[['text', 'sentiment', 'confidence']].head()\n",
        "            for idx, row in sample_df.iterrows():\n",
        "                text_preview = str(row['text'])[:100] + \"...\" if len(str(row['text'])) > 100 else str(row['text'])\n",
        "                print(f\"  Text: {text_preview}\")\n",
        "                print(f\"  Sentiment: {row['sentiment']} (confidence: {row['confidence']:.3f})\")\n",
        "                print()\n",
        "\n",
        "        except Exception as e:\n",
        "            print(f\"❌ Error processing {filename}: {e}\")\n",
        "            import traceback\n",
        "            traceback.print_exc()\n"
      ],
      "metadata": {
        "id": "QmjSffy2ecuI"
      },
      "execution_count": 11,
      "outputs": []
    },
    {
      "cell_type": "markdown",
      "source": [
        "Run analysis"
      ],
      "metadata": {
        "id": "-OSDQhMdeAZd"
      }
    },
    {
      "cell_type": "code",
      "source": [
        "if __name__ == \"__main__\":\n",
        "    process_files()\n",
        "    print(\"\\n🎉 All files processed successfully!\")\n"
      ],
      "metadata": {
        "colab": {
          "base_uri": "https://localhost:8080/"
        },
        "id": "PpIprESmejH_",
        "outputId": "499612e4-e377-4076-a77d-f7201c986073"
      },
      "execution_count": 12,
      "outputs": [
        {
          "output_type": "stream",
          "name": "stdout",
          "text": [
            "🔍 Searching for CSV files in: /content/data\n",
            "  Found: feminism_clustered_texts_after.csv in /content/data/cluster_files\n",
            "  Found: MensRights_clustered_after.csv in /content/data/cluster_files\n",
            "  Found: feminsim_clustered_texts_before.csv in /content/data/cluster_files\n",
            "  Found: LGBT_clustered_after.csv in /content/data/cluster_files\n",
            "  Found: LGBT_clustered_before.csv in /content/data/cluster_files\n",
            "  Found: MensRights_clustered_before.csv in /content/data/cluster_files\n",
            "📂 Found 6 CSV files:\n",
            "  1. feminism_clustered_texts_after.csv → /content/data/cluster_files/feminism_clustered_texts_after.csv\n",
            "  2. MensRights_clustered_after.csv → /content/data/cluster_files/MensRights_clustered_after.csv\n",
            "  3. feminsim_clustered_texts_before.csv → /content/data/cluster_files/feminsim_clustered_texts_before.csv\n",
            "  4. LGBT_clustered_after.csv → /content/data/cluster_files/LGBT_clustered_after.csv\n",
            "  5. LGBT_clustered_before.csv → /content/data/cluster_files/LGBT_clustered_before.csv\n",
            "  6. MensRights_clustered_before.csv → /content/data/cluster_files/MensRights_clustered_before.csv\n",
            "\n",
            "🔄 Processing: feminism_clustered_texts_after.csv\n",
            "📊 Loaded 2364 rows from feminism_clustered_texts_after.csv\n",
            "📋 Available columns: ['text', 'cluster', 'cluster_name', 'source']\n",
            "📊 Analyzing sentiment for 2364 texts...\n"
          ]
        },
        {
          "output_type": "stream",
          "name": "stderr",
          "text": [
            "Processing batches: 100%|██████████| 148/148 [00:23<00:00,  6.37it/s]\n"
          ]
        },
        {
          "output_type": "stream",
          "name": "stdout",
          "text": [
            "💾 Saved individual results: /content/results/feminism_clustered_texts_after_with_sentiment.csv\n",
            "📋 Sample results from feminism_clustered_texts_after.csv:\n",
            "  Text: hello peeps anyone else feels really alone as a feminist this feeling might vary greatly based on yo...\n",
            "  Sentiment: Uncertain (confidence: 0.520)\n",
            "\n",
            "  Text: hello my son a high student said his gym teacher told the boys during a demonstration don t throw li...\n",
            "  Sentiment: Negative (confidence: 0.890)\n",
            "\n",
            "  Text: as of november 2024 the following states and the district of columbia allow same day voter registrat...\n",
            "  Sentiment: Neutral (confidence: 0.892)\n",
            "\n",
            "  Text: i can t get used to it will never get used to it\n",
            "  Sentiment: Negative (confidence: 0.846)\n",
            "\n",
            "  Text: i keep seeing books where the moral is where girls should tolerate boys but not vice versa i d like ...\n",
            "  Sentiment: Neutral (confidence: 0.715)\n",
            "\n",
            "\n",
            "🔄 Processing: MensRights_clustered_after.csv\n",
            "📊 Loaded 2703 rows from MensRights_clustered_after.csv\n",
            "📋 Available columns: ['text', 'cluster', 'cluster_name', 'source']\n",
            "📊 Analyzing sentiment for 2703 texts...\n"
          ]
        },
        {
          "output_type": "stream",
          "name": "stderr",
          "text": [
            "Processing batches: 100%|██████████| 169/169 [00:27<00:00,  6.21it/s]\n"
          ]
        },
        {
          "output_type": "stream",
          "name": "stdout",
          "text": [
            "💾 Saved individual results: /content/results/MensRights_clustered_after_with_sentiment.csv\n",
            "📋 Sample results from MensRights_clustered_after.csv:\n",
            "  Text: saw this book at my bookstore job today and was furious when i read the back of it the premise basic...\n",
            "  Sentiment: Negative (confidence: 0.966)\n",
            "\n",
            "  Text: hopefully this belongs here i got banned from another subreddit because the mods thought my post was...\n",
            "  Sentiment: Negative (confidence: 0.610)\n",
            "\n",
            "  Text: over the years i ve sunk a lot of time into reading feminist research and there s one thing i ve con...\n",
            "  Sentiment: Uncertain (confidence: 0.514)\n",
            "\n",
            "  Text: as a female this is a genuine question that i ve had thank you have a good night\n",
            "  Sentiment: Positive (confidence: 0.896)\n",
            "\n",
            "  Text: found this interesting article with an interview with co owner of epicentr group largest household a...\n",
            "  Sentiment: Negative (confidence: 0.728)\n",
            "\n",
            "\n",
            "🔄 Processing: feminsim_clustered_texts_before.csv\n",
            "📊 Loaded 1158 rows from feminsim_clustered_texts_before.csv\n",
            "📋 Available columns: ['text', 'cluster', 'cluster_name', 'source']\n",
            "📊 Analyzing sentiment for 1158 texts...\n"
          ]
        },
        {
          "output_type": "stream",
          "name": "stderr",
          "text": [
            "Processing batches: 100%|██████████| 73/73 [00:12<00:00,  6.06it/s]\n"
          ]
        },
        {
          "output_type": "stream",
          "name": "stdout",
          "text": [
            "💾 Saved individual results: /content/results/feminsim_clustered_texts_before_with_sentiment.csv\n",
            "📋 Sample results from feminsim_clustered_texts_before.csv:\n",
            "  Text: it was a video of a man biologist explaining how and why sa should be considered the biggest crime a...\n",
            "  Sentiment: Uncertain (confidence: 0.466)\n",
            "\n",
            "  Text: i have a gut feeling that in the future the fourth reich will take place and very soon the fourth re...\n",
            "  Sentiment: Negative (confidence: 0.885)\n",
            "\n",
            "  Text: l\n",
            "  Sentiment: Uncertain (confidence: 0.495)\n",
            "\n",
            "  Text: so my partner and me where discussing going to an event together tomorrow evening i said i wasn t su...\n",
            "  Sentiment: Uncertain (confidence: 0.572)\n",
            "\n",
            "  Text: nívea new ad for skincare for men has a football player confidently announcing skin care we ve got b...\n",
            "  Sentiment: Negative (confidence: 0.601)\n",
            "\n",
            "\n",
            "🔄 Processing: LGBT_clustered_after.csv\n",
            "📊 Loaded 18064 rows from LGBT_clustered_after.csv\n",
            "📋 Available columns: ['text', 'cluster', 'cluster_name', 'source']\n",
            "📊 Analyzing sentiment for 18064 texts...\n"
          ]
        },
        {
          "output_type": "stream",
          "name": "stderr",
          "text": [
            "Processing batches: 100%|██████████| 1129/1129 [03:05<00:00,  6.09it/s]\n"
          ]
        },
        {
          "output_type": "stream",
          "name": "stdout",
          "text": [
            "💾 Saved individual results: /content/results/LGBT_clustered_after_with_sentiment.csv\n",
            "📋 Sample results from LGBT_clustered_after.csv:\n",
            "  Text: hi i m a teenage girl and i have literally no clue what sexuality i am i did so much gay stuff when ...\n",
            "  Sentiment: Uncertain (confidence: 0.480)\n",
            "\n",
            "  Text: i usually post in r translater but haunt this sub wanted to share a pic before the election 46yo tra...\n",
            "  Sentiment: Positive (confidence: 0.882)\n",
            "\n",
            "  Text: i m not in the wrong having a past is not being delusional a past is things that actually happened b...\n",
            "  Sentiment: Neutral (confidence: 0.722)\n",
            "\n",
            "  Text: why does everyone i come across to get help wants to have sex in order to help me i ve been homeless...\n",
            "  Sentiment: Negative (confidence: 0.826)\n",
            "\n",
            "  Text: what s it called when you re attracted to men and woman but you would only have sex with a woman and...\n",
            "  Sentiment: Neutral (confidence: 0.622)\n",
            "\n",
            "\n",
            "🔄 Processing: LGBT_clustered_before.csv\n",
            "📊 Loaded 20161 rows from LGBT_clustered_before.csv\n",
            "📋 Available columns: ['text', 'cluster', 'cluster_name', 'source']\n",
            "📊 Analyzing sentiment for 20161 texts...\n"
          ]
        },
        {
          "output_type": "stream",
          "name": "stderr",
          "text": [
            "Processing batches: 100%|██████████| 1261/1261 [03:25<00:00,  6.14it/s]\n"
          ]
        },
        {
          "output_type": "stream",
          "name": "stdout",
          "text": [
            "💾 Saved individual results: /content/results/LGBT_clustered_before_with_sentiment.csv\n",
            "📋 Sample results from LGBT_clustered_before.csv:\n",
            "  Text: can anyone give any recommendations for good places or online stores to get binders in the uk i can ...\n",
            "  Sentiment: Neutral (confidence: 0.659)\n",
            "\n",
            "  Text: i openly identified as non binary for a while but gave up because no one cared i now spiritually ide...\n",
            "  Sentiment: Negative (confidence: 0.856)\n",
            "\n",
            "  Text: i 14 male him 15 i need tips for asking him out and how to tell if he s gay btw we sung at the end o...\n",
            "  Sentiment: Neutral (confidence: 0.790)\n",
            "\n",
            "  Text: there are queer platonic i actually hate some of the discourse around this there s a lot of implying...\n",
            "  Sentiment: Negative (confidence: 0.910)\n",
            "\n",
            "  Text: so basically i ve been best friends with this girl since 9th grade i am now currently 10th we ve spe...\n",
            "  Sentiment: Neutral (confidence: 0.626)\n",
            "\n",
            "\n",
            "🔄 Processing: MensRights_clustered_before.csv\n",
            "📊 Loaded 2420 rows from MensRights_clustered_before.csv\n",
            "📋 Available columns: ['text', 'cluster', 'cluster_name', 'source']\n",
            "📊 Analyzing sentiment for 2420 texts...\n"
          ]
        },
        {
          "output_type": "stream",
          "name": "stderr",
          "text": [
            "Processing batches: 100%|██████████| 152/152 [00:24<00:00,  6.14it/s]"
          ]
        },
        {
          "output_type": "stream",
          "name": "stdout",
          "text": [
            "💾 Saved individual results: /content/results/MensRights_clustered_before_with_sentiment.csv\n",
            "📋 Sample results from MensRights_clustered_before.csv:\n",
            "  Text: i m from a decent sized city and i used to think men not trusting women was a bit unfounded unreason...\n",
            "  Sentiment: Negative (confidence: 0.788)\n",
            "\n",
            "  Text: hey everyone sorry to put this post here but i was wondering if anyone from mid wales was thinking a...\n",
            "  Sentiment: Neutral (confidence: 0.630)\n",
            "\n",
            "  Text: a very good friend of mine who is almost like a brother to me was recently diagnosed with stage 3 th...\n",
            "  Sentiment: Uncertain (confidence: 0.510)\n",
            "\n",
            "  Text: not the first time i ve ranted about this but it s really infuriating and tiresome to see so many ig...\n",
            "  Sentiment: Negative (confidence: 0.915)\n",
            "\n",
            "  Text: social status in men is sexy men s social status accounts for 62 of the variance in the opportunity ...\n",
            "  Sentiment: Uncertain (confidence: 0.560)\n",
            "\n",
            "\n",
            "🎉 All files processed successfully!\n"
          ]
        },
        {
          "output_type": "stream",
          "name": "stderr",
          "text": [
            "\n"
          ]
        }
      ]
    },
    {
      "cell_type": "markdown",
      "source": [
        "Downloas results"
      ],
      "metadata": {
        "id": "enWmAKypesW1"
      }
    },
    {
      "cell_type": "code",
      "source": [
        "print(\"📥 Download processed files:\")\n",
        "# List all result files\n",
        "result_files = [f for f in os.listdir('/content/results') if f.endswith('.csv') or f.endswith('.png')]\n",
        "for file in result_files:\n",
        "    colab_files.download(f'/content/results/{file}')\n",
        "    print(f\"Downloaded: {file}\")"
      ],
      "metadata": {
        "colab": {
          "base_uri": "https://localhost:8080/",
          "height": 138
        },
        "id": "HBXkegQAeuP9",
        "outputId": "84c00b85-cfdf-4a62-daaf-74f3d340e2e2"
      },
      "execution_count": 13,
      "outputs": [
        {
          "output_type": "stream",
          "name": "stdout",
          "text": [
            "📥 Download processed files:\n"
          ]
        },
        {
          "output_type": "display_data",
          "data": {
            "text/plain": [
              "<IPython.core.display.Javascript object>"
            ],
            "application/javascript": [
              "\n",
              "    async function download(id, filename, size) {\n",
              "      if (!google.colab.kernel.accessAllowed) {\n",
              "        return;\n",
              "      }\n",
              "      const div = document.createElement('div');\n",
              "      const label = document.createElement('label');\n",
              "      label.textContent = `Downloading \"${filename}\": `;\n",
              "      div.appendChild(label);\n",
              "      const progress = document.createElement('progress');\n",
              "      progress.max = size;\n",
              "      div.appendChild(progress);\n",
              "      document.body.appendChild(div);\n",
              "\n",
              "      const buffers = [];\n",
              "      let downloaded = 0;\n",
              "\n",
              "      const channel = await google.colab.kernel.comms.open(id);\n",
              "      // Send a message to notify the kernel that we're ready.\n",
              "      channel.send({})\n",
              "\n",
              "      for await (const message of channel.messages) {\n",
              "        // Send a message to notify the kernel that we're ready.\n",
              "        channel.send({})\n",
              "        if (message.buffers) {\n",
              "          for (const buffer of message.buffers) {\n",
              "            buffers.push(buffer);\n",
              "            downloaded += buffer.byteLength;\n",
              "            progress.value = downloaded;\n",
              "          }\n",
              "        }\n",
              "      }\n",
              "      const blob = new Blob(buffers, {type: 'application/binary'});\n",
              "      const a = document.createElement('a');\n",
              "      a.href = window.URL.createObjectURL(blob);\n",
              "      a.download = filename;\n",
              "      div.appendChild(a);\n",
              "      a.click();\n",
              "      div.remove();\n",
              "    }\n",
              "  "
            ]
          },
          "metadata": {}
        },
        {
          "output_type": "display_data",
          "data": {
            "text/plain": [
              "<IPython.core.display.Javascript object>"
            ],
            "application/javascript": [
              "download(\"download_d3c63ce2-ebf0-4a90-a5ee-00430a747730\", \"MensRights_clustered_after_with_sentiment.csv\", 3616497)"
            ]
          },
          "metadata": {}
        },
        {
          "output_type": "stream",
          "name": "stdout",
          "text": [
            "Downloaded: MensRights_clustered_after_with_sentiment.csv\n"
          ]
        },
        {
          "output_type": "display_data",
          "data": {
            "text/plain": [
              "<IPython.core.display.Javascript object>"
            ],
            "application/javascript": [
              "\n",
              "    async function download(id, filename, size) {\n",
              "      if (!google.colab.kernel.accessAllowed) {\n",
              "        return;\n",
              "      }\n",
              "      const div = document.createElement('div');\n",
              "      const label = document.createElement('label');\n",
              "      label.textContent = `Downloading \"${filename}\": `;\n",
              "      div.appendChild(label);\n",
              "      const progress = document.createElement('progress');\n",
              "      progress.max = size;\n",
              "      div.appendChild(progress);\n",
              "      document.body.appendChild(div);\n",
              "\n",
              "      const buffers = [];\n",
              "      let downloaded = 0;\n",
              "\n",
              "      const channel = await google.colab.kernel.comms.open(id);\n",
              "      // Send a message to notify the kernel that we're ready.\n",
              "      channel.send({})\n",
              "\n",
              "      for await (const message of channel.messages) {\n",
              "        // Send a message to notify the kernel that we're ready.\n",
              "        channel.send({})\n",
              "        if (message.buffers) {\n",
              "          for (const buffer of message.buffers) {\n",
              "            buffers.push(buffer);\n",
              "            downloaded += buffer.byteLength;\n",
              "            progress.value = downloaded;\n",
              "          }\n",
              "        }\n",
              "      }\n",
              "      const blob = new Blob(buffers, {type: 'application/binary'});\n",
              "      const a = document.createElement('a');\n",
              "      a.href = window.URL.createObjectURL(blob);\n",
              "      a.download = filename;\n",
              "      div.appendChild(a);\n",
              "      a.click();\n",
              "      div.remove();\n",
              "    }\n",
              "  "
            ]
          },
          "metadata": {}
        },
        {
          "output_type": "display_data",
          "data": {
            "text/plain": [
              "<IPython.core.display.Javascript object>"
            ],
            "application/javascript": [
              "download(\"download_e1b96b05-e436-46e0-ae7a-067974d7de40\", \"LGBT_clustered_before_with_sentiment.csv\", 18272166)"
            ]
          },
          "metadata": {}
        },
        {
          "output_type": "stream",
          "name": "stdout",
          "text": [
            "Downloaded: LGBT_clustered_before_with_sentiment.csv\n"
          ]
        },
        {
          "output_type": "display_data",
          "data": {
            "text/plain": [
              "<IPython.core.display.Javascript object>"
            ],
            "application/javascript": [
              "\n",
              "    async function download(id, filename, size) {\n",
              "      if (!google.colab.kernel.accessAllowed) {\n",
              "        return;\n",
              "      }\n",
              "      const div = document.createElement('div');\n",
              "      const label = document.createElement('label');\n",
              "      label.textContent = `Downloading \"${filename}\": `;\n",
              "      div.appendChild(label);\n",
              "      const progress = document.createElement('progress');\n",
              "      progress.max = size;\n",
              "      div.appendChild(progress);\n",
              "      document.body.appendChild(div);\n",
              "\n",
              "      const buffers = [];\n",
              "      let downloaded = 0;\n",
              "\n",
              "      const channel = await google.colab.kernel.comms.open(id);\n",
              "      // Send a message to notify the kernel that we're ready.\n",
              "      channel.send({})\n",
              "\n",
              "      for await (const message of channel.messages) {\n",
              "        // Send a message to notify the kernel that we're ready.\n",
              "        channel.send({})\n",
              "        if (message.buffers) {\n",
              "          for (const buffer of message.buffers) {\n",
              "            buffers.push(buffer);\n",
              "            downloaded += buffer.byteLength;\n",
              "            progress.value = downloaded;\n",
              "          }\n",
              "        }\n",
              "      }\n",
              "      const blob = new Blob(buffers, {type: 'application/binary'});\n",
              "      const a = document.createElement('a');\n",
              "      a.href = window.URL.createObjectURL(blob);\n",
              "      a.download = filename;\n",
              "      div.appendChild(a);\n",
              "      a.click();\n",
              "      div.remove();\n",
              "    }\n",
              "  "
            ]
          },
          "metadata": {}
        },
        {
          "output_type": "display_data",
          "data": {
            "text/plain": [
              "<IPython.core.display.Javascript object>"
            ],
            "application/javascript": [
              "download(\"download_b98314bc-dce9-46b4-8f04-8a15556a2c14\", \"feminsim_clustered_texts_before_with_sentiment.csv\", 1349475)"
            ]
          },
          "metadata": {}
        },
        {
          "output_type": "stream",
          "name": "stdout",
          "text": [
            "Downloaded: feminsim_clustered_texts_before_with_sentiment.csv\n"
          ]
        },
        {
          "output_type": "display_data",
          "data": {
            "text/plain": [
              "<IPython.core.display.Javascript object>"
            ],
            "application/javascript": [
              "\n",
              "    async function download(id, filename, size) {\n",
              "      if (!google.colab.kernel.accessAllowed) {\n",
              "        return;\n",
              "      }\n",
              "      const div = document.createElement('div');\n",
              "      const label = document.createElement('label');\n",
              "      label.textContent = `Downloading \"${filename}\": `;\n",
              "      div.appendChild(label);\n",
              "      const progress = document.createElement('progress');\n",
              "      progress.max = size;\n",
              "      div.appendChild(progress);\n",
              "      document.body.appendChild(div);\n",
              "\n",
              "      const buffers = [];\n",
              "      let downloaded = 0;\n",
              "\n",
              "      const channel = await google.colab.kernel.comms.open(id);\n",
              "      // Send a message to notify the kernel that we're ready.\n",
              "      channel.send({})\n",
              "\n",
              "      for await (const message of channel.messages) {\n",
              "        // Send a message to notify the kernel that we're ready.\n",
              "        channel.send({})\n",
              "        if (message.buffers) {\n",
              "          for (const buffer of message.buffers) {\n",
              "            buffers.push(buffer);\n",
              "            downloaded += buffer.byteLength;\n",
              "            progress.value = downloaded;\n",
              "          }\n",
              "        }\n",
              "      }\n",
              "      const blob = new Blob(buffers, {type: 'application/binary'});\n",
              "      const a = document.createElement('a');\n",
              "      a.href = window.URL.createObjectURL(blob);\n",
              "      a.download = filename;\n",
              "      div.appendChild(a);\n",
              "      a.click();\n",
              "      div.remove();\n",
              "    }\n",
              "  "
            ]
          },
          "metadata": {}
        },
        {
          "output_type": "display_data",
          "data": {
            "text/plain": [
              "<IPython.core.display.Javascript object>"
            ],
            "application/javascript": [
              "download(\"download_dbd2e908-82f9-4565-88cc-c31cac7d17a3\", \"feminism_clustered_texts_after_with_sentiment.csv\", 2719490)"
            ]
          },
          "metadata": {}
        },
        {
          "output_type": "stream",
          "name": "stdout",
          "text": [
            "Downloaded: feminism_clustered_texts_after_with_sentiment.csv\n"
          ]
        },
        {
          "output_type": "display_data",
          "data": {
            "text/plain": [
              "<IPython.core.display.Javascript object>"
            ],
            "application/javascript": [
              "\n",
              "    async function download(id, filename, size) {\n",
              "      if (!google.colab.kernel.accessAllowed) {\n",
              "        return;\n",
              "      }\n",
              "      const div = document.createElement('div');\n",
              "      const label = document.createElement('label');\n",
              "      label.textContent = `Downloading \"${filename}\": `;\n",
              "      div.appendChild(label);\n",
              "      const progress = document.createElement('progress');\n",
              "      progress.max = size;\n",
              "      div.appendChild(progress);\n",
              "      document.body.appendChild(div);\n",
              "\n",
              "      const buffers = [];\n",
              "      let downloaded = 0;\n",
              "\n",
              "      const channel = await google.colab.kernel.comms.open(id);\n",
              "      // Send a message to notify the kernel that we're ready.\n",
              "      channel.send({})\n",
              "\n",
              "      for await (const message of channel.messages) {\n",
              "        // Send a message to notify the kernel that we're ready.\n",
              "        channel.send({})\n",
              "        if (message.buffers) {\n",
              "          for (const buffer of message.buffers) {\n",
              "            buffers.push(buffer);\n",
              "            downloaded += buffer.byteLength;\n",
              "            progress.value = downloaded;\n",
              "          }\n",
              "        }\n",
              "      }\n",
              "      const blob = new Blob(buffers, {type: 'application/binary'});\n",
              "      const a = document.createElement('a');\n",
              "      a.href = window.URL.createObjectURL(blob);\n",
              "      a.download = filename;\n",
              "      div.appendChild(a);\n",
              "      a.click();\n",
              "      div.remove();\n",
              "    }\n",
              "  "
            ]
          },
          "metadata": {}
        },
        {
          "output_type": "display_data",
          "data": {
            "text/plain": [
              "<IPython.core.display.Javascript object>"
            ],
            "application/javascript": [
              "download(\"download_b9f6e537-ef19-44f5-8e44-c53852b21178\", \"LGBT_clustered_after_with_sentiment.csv\", 16468100)"
            ]
          },
          "metadata": {}
        },
        {
          "output_type": "stream",
          "name": "stdout",
          "text": [
            "Downloaded: LGBT_clustered_after_with_sentiment.csv\n"
          ]
        },
        {
          "output_type": "display_data",
          "data": {
            "text/plain": [
              "<IPython.core.display.Javascript object>"
            ],
            "application/javascript": [
              "\n",
              "    async function download(id, filename, size) {\n",
              "      if (!google.colab.kernel.accessAllowed) {\n",
              "        return;\n",
              "      }\n",
              "      const div = document.createElement('div');\n",
              "      const label = document.createElement('label');\n",
              "      label.textContent = `Downloading \"${filename}\": `;\n",
              "      div.appendChild(label);\n",
              "      const progress = document.createElement('progress');\n",
              "      progress.max = size;\n",
              "      div.appendChild(progress);\n",
              "      document.body.appendChild(div);\n",
              "\n",
              "      const buffers = [];\n",
              "      let downloaded = 0;\n",
              "\n",
              "      const channel = await google.colab.kernel.comms.open(id);\n",
              "      // Send a message to notify the kernel that we're ready.\n",
              "      channel.send({})\n",
              "\n",
              "      for await (const message of channel.messages) {\n",
              "        // Send a message to notify the kernel that we're ready.\n",
              "        channel.send({})\n",
              "        if (message.buffers) {\n",
              "          for (const buffer of message.buffers) {\n",
              "            buffers.push(buffer);\n",
              "            downloaded += buffer.byteLength;\n",
              "            progress.value = downloaded;\n",
              "          }\n",
              "        }\n",
              "      }\n",
              "      const blob = new Blob(buffers, {type: 'application/binary'});\n",
              "      const a = document.createElement('a');\n",
              "      a.href = window.URL.createObjectURL(blob);\n",
              "      a.download = filename;\n",
              "      div.appendChild(a);\n",
              "      a.click();\n",
              "      div.remove();\n",
              "    }\n",
              "  "
            ]
          },
          "metadata": {}
        },
        {
          "output_type": "display_data",
          "data": {
            "text/plain": [
              "<IPython.core.display.Javascript object>"
            ],
            "application/javascript": [
              "download(\"download_018bd0c2-f5e2-4164-b685-6be6c8b1d708\", \"MensRights_clustered_before_with_sentiment.csv\", 2877777)"
            ]
          },
          "metadata": {}
        },
        {
          "output_type": "stream",
          "name": "stdout",
          "text": [
            "Downloaded: MensRights_clustered_before_with_sentiment.csv\n"
          ]
        }
      ]
    },
    {
      "cell_type": "markdown",
      "source": [
        "Display file structure for debugging"
      ],
      "metadata": {
        "id": "3Efea-dne-UZ"
      }
    },
    {
      "cell_type": "code",
      "source": [
        "print(\"📁 Current file structure:\")\n",
        "for root, dirs, files in os.walk('/content'):\n",
        "    level = root.replace('/content', '').count(os.sep)\n",
        "    indent = ' ' * 2 * level\n",
        "    print(f\"{indent}{os.path.basename(root)}/\")\n",
        "    subindent = ' ' * 2 * (level + 1)\n",
        "    for file in files[:10]:  # Show first 10 files only\n",
        "        print(f\"{subindent}{file}\")\n",
        "    if len(files) > 10:\n",
        "        print(f\"{subindent}... and {len(files) - 10} more files\")"
      ],
      "metadata": {
        "colab": {
          "base_uri": "https://localhost:8080/"
        },
        "id": "X0vs0Bqde-w4",
        "outputId": "2b9e4d95-5f46-437d-9ab3-5479bf67e660"
      },
      "execution_count": 14,
      "outputs": [
        {
          "output_type": "stream",
          "name": "stdout",
          "text": [
            "📁 Current file structure:\n",
            "content/\n",
            "  .config/\n",
            "    gce\n",
            "    .last_survey_prompt.yaml\n",
            "    .last_update_check.json\n",
            "    active_config\n",
            "    .last_opt_in_prompt.yaml\n",
            "    config_sentinel\n",
            "    hidden_gcloud_config_universe_descriptor_data_cache_configs.db\n",
            "    default_configs.db\n",
            "    logs/\n",
            "      2025.06.20/\n",
            "        13.37.50.274592.log\n",
            "        13.37.39.370876.log\n",
            "        13.37.06.815112.log\n",
            "        13.37.49.523438.log\n",
            "        13.37.37.819145.log\n",
            "        13.37.28.379622.log\n",
            "    configurations/\n",
            "      config_default\n",
            "  results/\n",
            "    MensRights_clustered_after_with_sentiment.csv\n",
            "    LGBT_clustered_before_with_sentiment.csv\n",
            "    feminsim_clustered_texts_before_with_sentiment.csv\n",
            "    feminism_clustered_texts_after_with_sentiment.csv\n",
            "    LGBT_clustered_after_with_sentiment.csv\n",
            "    MensRights_clustered_before_with_sentiment.csv\n",
            "  data/\n",
            "    cluster_files/\n",
            "      feminism_clustered_texts_after.csv\n",
            "      MensRights_clustered_after.csv\n",
            "      feminsim_clustered_texts_before.csv\n",
            "      LGBT_clustered_after.csv\n",
            "      LGBT_clustered_before.csv\n",
            "      MensRights_clustered_before.csv\n",
            "  sample_data/\n",
            "    anscombe.json\n",
            "    README.md\n",
            "    mnist_train_small.csv\n",
            "    california_housing_train.csv\n",
            "    california_housing_test.csv\n",
            "    mnist_test.csv\n"
          ]
        }
      ]
    },
    {
      "cell_type": "markdown",
      "source": [
        "Generate visualizations plots"
      ],
      "metadata": {
        "id": "S8cJ_ml5VMHE"
      }
    },
    {
      "cell_type": "code",
      "source": [
        "\n",
        "import pandas as pd\n",
        "import matplotlib.pyplot as plt\n",
        "import os\n",
        "from google.colab import files as colab_files\n",
        "\n",
        "def calculate_cluster_sentiment_stats(df):\n",
        "    \"\"\"Calculate sentiment percentages by cluster\"\"\"\n",
        "    cluster_stats = []\n",
        "\n",
        "    for cluster_name in df['cluster_name'].unique():\n",
        "        cluster_data = df[df['cluster_name'] == cluster_name]\n",
        "        total_posts = len(cluster_data)\n",
        "\n",
        "        if total_posts > 0:\n",
        "            sentiment_counts = cluster_data['sentiment'].value_counts()\n",
        "\n",
        "            negative_count = sentiment_counts.get('Negative', 0)\n",
        "            neutral_count = sentiment_counts.get('Neutral', 0)\n",
        "            positive_count = sentiment_counts.get('Positive', 0)\n",
        "            uncertain_count = sentiment_counts.get('Uncertain', 0)\n",
        "\n",
        "            cluster_stats.append({\n",
        "                'cluster_name': cluster_name,\n",
        "                'total_posts': total_posts,\n",
        "                'negative_count': negative_count,\n",
        "                'neutral_count': neutral_count,\n",
        "                'positive_count': positive_count,\n",
        "                'uncertain_count': uncertain_count,\n",
        "                'negative_pct': (negative_count / total_posts) * 100,\n",
        "                'neutral_pct': (neutral_count / total_posts) * 100,\n",
        "                'positive_pct': (positive_count / total_posts) * 100,\n",
        "                'uncertain_pct': (uncertain_count / total_posts) * 100\n",
        "            })\n",
        "\n",
        "    return pd.DataFrame(cluster_stats)\n",
        "\n",
        "def plot_cluster_sentiment_comparison(cluster_df, filename, output_dir=\"/content/results\"):\n",
        "    \"\"\"Create sentiment distribution plots by cluster\"\"\"\n",
        "    os.makedirs(output_dir, exist_ok=True)\n",
        "\n",
        "    plt.figure(figsize=(15, 8))\n",
        "    clusters = cluster_df['cluster_name']\n",
        "\n",
        "    # Calculate bottoms for stacked bar chart\n",
        "    bottom_neutral = cluster_df['negative_pct']\n",
        "    bottom_positive = cluster_df['negative_pct'] + cluster_df['neutral_pct']\n",
        "    bottom_uncertain = cluster_df['negative_pct'] + cluster_df['neutral_pct'] + cluster_df['positive_pct']\n",
        "\n",
        "    # Create stacked bars\n",
        "    plt.bar(clusters, cluster_df['negative_pct'], label='Negative', color='#ff6b6b', alpha=0.8)\n",
        "    plt.bar(clusters, cluster_df['neutral_pct'], bottom=bottom_neutral, label='Neutral', color='#ffd93d', alpha=0.8)\n",
        "    plt.bar(clusters, cluster_df['positive_pct'], bottom=bottom_positive, label='Positive', color='#6bcf7f', alpha=0.8)\n",
        "    plt.bar(clusters, cluster_df['uncertain_pct'], bottom=bottom_uncertain, label='Uncertain', color='#a8a8a8', alpha=0.8)\n",
        "\n",
        "    # Title mapping\n",
        "    title_map = {\n",
        "        \"mensrights_clustered_before_with_sentiment.csv\": \"Sentiment Distribution by Cluster in r/MensRights Pre-Election\",\n",
        "        \"mensrights_clustered_after_with_sentiment.csv\": \"Sentiment Distribution by Cluster in r/MensRights Post-Election\",\n",
        "        \"feminism_clustered_texts_before_with_sentiment.csv\": \"Sentiment Distribution by Cluster in r/Feminism Pre-Election\",\n",
        "        \"feminism_clustered_texts_after_with_sentiment.csv\": \"Sentiment Distribution by Cluster in r/Feminism Post-Election\",\n",
        "        \"feminsim_clustered_texts_before_with_sentiment.csv\": \"Sentiment Distribution by Cluster in r/Feminism Pre-Election\",\n",
        "        \"lgbt_clustered_before_with_sentiment.csv\": \"Sentiment Distribution by Cluster in r/LGBT Pre-Election\",\n",
        "        \"lgbt_clustered_after_with_sentiment.csv\": \"Sentiment Distribution by Cluster in r/LGBT Post-Election\"\n",
        "    }\n",
        "\n",
        "    plot_title = title_map.get(filename.lower(), f\"Sentiment Distribution by Cluster\\n{filename}\")\n",
        "    plt.title(plot_title, fontsize=14, fontweight='bold')\n",
        "    plt.xlabel('Clusters')\n",
        "    plt.ylabel('Percentage of Posts')\n",
        "    plt.xticks(rotation=45, ha='right')\n",
        "    plt.grid(True, alpha=0.3)\n",
        "    plt.legend()\n",
        "    plt.tight_layout()\n",
        "\n",
        "    plot_path = os.path.join(output_dir, filename.replace(\"_with_sentiment.csv\", \"_cluster_sentiment_distribution.png\"))\n",
        "    plt.savefig(plot_path, dpi=300, bbox_inches='tight')\n",
        "    plt.show()  # Display in Colab\n",
        "    plt.close()\n",
        "    print(f\"📊 Saved cluster sentiment distribution: {plot_path}\")\n",
        "    return plot_path\n",
        "\n",
        "def create_summary_statistics_table(all_cluster_stats, output_dir=\"/content/results\"):\n",
        "    \"\"\"Create a comprehensive summary statistics table for all files\"\"\"\n",
        "    summary_rows = []\n",
        "\n",
        "    for filename, cluster_stats in all_cluster_stats.items():\n",
        "        # Extract dataset info from filename\n",
        "        dataset_name = filename.replace(\"_with_sentiment.csv\", \"\").replace(\"_clustered_texts\", \"\").replace(\"_clustered\", \"\")\n",
        "\n",
        "        for _, row in cluster_stats.iterrows():\n",
        "            summary_rows.append({\n",
        "                'Dataset': dataset_name,\n",
        "                'Filename': filename,\n",
        "                'Cluster_Name': row['cluster_name'],\n",
        "                'Total_Posts': row['total_posts'],\n",
        "                'Negative_Count': row['negative_count'],\n",
        "                'Neutral_Count': row['neutral_count'],\n",
        "                'Positive_Count': row['positive_count'],\n",
        "                'Uncertain_Count': row['uncertain_count'],\n",
        "                'Negative_Pct': round(row['negative_pct'], 1),\n",
        "                'Neutral_Pct': round(row['neutral_pct'], 1),\n",
        "                'Positive_Pct': round(row['positive_pct'], 1),\n",
        "                'Uncertain_Pct': round(row['uncertain_pct'], 1)\n",
        "            })\n",
        "\n",
        "    # Create DataFrame and save\n",
        "    summary_df = pd.DataFrame(summary_rows)\n",
        "    summary_path = os.path.join(output_dir, \"cluster_sentiment_summary_statistics.csv\")\n",
        "    summary_df.to_csv(summary_path, index=False)\n",
        "\n",
        "    print(f\"\\n📋 Summary Statistics Table:\")\n",
        "    print(\"=\" * 120)\n",
        "    print(f\"{'Dataset':<20} {'Cluster Name':<30} {'Posts':<8} {'Neg%':<6} {'Neu%':<6} {'Pos%':<6} {'Unc%':<6}\")\n",
        "    print(\"=\" * 120)\n",
        "\n",
        "    for _, row in summary_df.iterrows():\n",
        "        print(f\"{row['Dataset']:<20} {row['Cluster_Name']:<30} {row['Total_Posts']:<8} \"\n",
        "              f\"{row['Negative_Pct']:<6} {row['Neutral_Pct']:<6} {row['Positive_Pct']:<6} {row['Uncertain_Pct']:<6}\")\n",
        "\n",
        "    print(\"=\" * 120)\n",
        "    print(f\"💾 Saved summary statistics: {summary_path}\")\n",
        "    return summary_path\n",
        "\n",
        "# Generate visualizations for all processed files\n",
        "results_dir = \"/content/results\"\n",
        "sentiment_files = [f for f in os.listdir(results_dir) if f.endswith('_with_sentiment.csv')]\n",
        "\n",
        "print(f\"📊 Generating visualizations for {len(sentiment_files)} files...\")\n",
        "\n",
        "plot_files = []\n",
        "all_cluster_stats = {}  # Store all cluster statistics for summary table\n",
        "\n",
        "for filename in sentiment_files:\n",
        "    print(f\"\\n🎨 Creating plot for: {filename}\")\n",
        "\n",
        "    try:\n",
        "        # Load the processed data\n",
        "        file_path = os.path.join(results_dir, filename)\n",
        "        df = pd.read_csv(file_path)\n",
        "\n",
        "        # Check if required columns exist\n",
        "        if 'cluster_name' not in df.columns or 'sentiment' not in df.columns:\n",
        "            print(f\"⚠️ Missing required columns in {filename}\")\n",
        "            print(f\"Available columns: {list(df.columns)}\")\n",
        "            continue\n",
        "\n",
        "        # Calculate cluster sentiment statistics\n",
        "        cluster_stats = calculate_cluster_sentiment_stats(df)\n",
        "\n",
        "        if len(cluster_stats) == 0:\n",
        "            print(f\"⚠️ No cluster data found in {filename}\")\n",
        "            continue\n",
        "\n",
        "        # Store cluster stats for summary table\n",
        "        all_cluster_stats[filename] = cluster_stats\n",
        "\n",
        "        print(f\"📋 Cluster summary for {filename}:\")\n",
        "        for _, row in cluster_stats.iterrows():\n",
        "            print(f\"  {row['cluster_name']}: {row['total_posts']} posts\")\n",
        "            print(f\"    Neg: {row['negative_pct']:.1f}%, Neu: {row['neutral_pct']:.1f}%, Pos: {row['positive_pct']:.1f}%, Unc: {row['uncertain_pct']:.1f}%\")\n",
        "\n",
        "        # Generate the plot\n",
        "        plot_path = plot_cluster_sentiment_comparison(cluster_stats, filename)\n",
        "        plot_files.append(plot_path)\n",
        "\n",
        "    except Exception as e:\n",
        "        print(f\"❌ Error processing {filename}: {e}\")\n",
        "        import traceback\n",
        "        traceback.print_exc()\n",
        "\n",
        "print(f\"\\n🎉 Generated {len(plot_files)} visualization plots!\")\n",
        "\n",
        "# Generate summary statistics table\n",
        "if all_cluster_stats:\n",
        "    summary_path = create_summary_statistics_table(all_cluster_stats)\n",
        "    plot_files.append(summary_path)  # Add summary file to download list"
      ],
      "metadata": {
        "colab": {
          "base_uri": "https://localhost:8080/",
          "height": 1000
        },
        "id": "IQV-kXIOo2P_",
        "outputId": "32e31e22-265b-41d8-e0ad-8e1302833d51"
      },
      "execution_count": 15,
      "outputs": [
        {
          "output_type": "stream",
          "name": "stdout",
          "text": [
            "📊 Generating visualizations for 6 files...\n",
            "\n",
            "🎨 Creating plot for: MensRights_clustered_after_with_sentiment.csv\n",
            "📋 Cluster summary for MensRights_clustered_after_with_sentiment.csv:\n",
            "  Masculinity & Identity: 597 posts\n",
            "    Neg: 61.6%, Neu: 8.5%, Pos: 1.2%, Unc: 28.6%\n",
            "  Personal Reflections & Emotions: 374 posts\n",
            "    Neg: 56.7%, Neu: 5.6%, Pos: 4.3%, Unc: 33.4%\n",
            "  Gender Issues & Male Victimhood: 965 posts\n",
            "    Neg: 40.6%, Neu: 20.6%, Pos: 6.3%, Unc: 32.4%\n",
            "  Gender & Social Roles: 487 posts\n",
            "    Neg: 62.0%, Neu: 8.4%, Pos: 2.7%, Unc: 26.9%\n",
            "  Media & Link Embeds: 47 posts\n",
            "    Neg: 27.7%, Neu: 48.9%, Pos: 4.3%, Unc: 19.1%\n",
            "  External Content & News Links: 233 posts\n",
            "    Neg: 33.0%, Neu: 33.5%, Pos: 7.7%, Unc: 25.8%\n"
          ]
        },
        {
          "output_type": "display_data",
          "data": {
            "text/plain": [
              "<Figure size 1500x800 with 1 Axes>"
            ],
            "image/png": "[encoded data removed]"
          },
          "metadata": {}
        },
        {
          "output_type": "stream",
          "name": "stdout",
          "text": [
            "📊 Saved cluster sentiment distribution: /content/results/MensRights_clustered_after_cluster_sentiment_distribution.png\n",
            "\n",
            "🎨 Creating plot for: LGBT_clustered_before_with_sentiment.csv\n",
            "📋 Cluster summary for LGBT_clustered_before_with_sentiment.csv:\n",
            "  Community & Pride Narratives: 9707 posts\n",
            "    Neg: 24.7%, Neu: 25.2%, Pos: 19.9%, Unc: 30.1%\n",
            "  Sexual Orientation & Friendship: 1457 posts\n",
            "    Neg: 42.3%, Neu: 12.6%, Pos: 7.1%, Unc: 38.0%\n",
            "  Personal Reflections & Emotions: 4562 posts\n",
            "    Neg: 32.6%, Neu: 5.3%, Pos: 10.7%, Unc: 51.3%\n",
            "  Trans Identity & Expression: 2679 posts\n",
            "    Neg: 33.0%, Neu: 12.1%, Pos: 7.1%, Unc: 47.9%\n",
            "  Romantic Attraction & Gender Identity: 1589 posts\n",
            "    Neg: 25.3%, Neu: 13.4%, Pos: 6.3%, Unc: 55.0%\n",
            "  Media Attachments & Image Links: 167 posts\n",
            "    Neg: 6.6%, Neu: 61.1%, Pos: 11.4%, Unc: 21.0%\n"
          ]
        },
        {
          "output_type": "display_data",
          "data": {
            "text/plain": [
              "<Figure size 1500x800 with 1 Axes>"
            ],
            "image/png": "[encoded data removed]"
          },
          "metadata": {}
        },
        {
          "output_type": "stream",
          "name": "stdout",
          "text": [
            "📊 Saved cluster sentiment distribution: /content/results/LGBT_clustered_before_cluster_sentiment_distribution.png\n",
            "\n",
            "🎨 Creating plot for: feminsim_clustered_texts_before_with_sentiment.csv\n",
            "📋 Cluster summary for feminsim_clustered_texts_before_with_sentiment.csv:\n",
            "  Personal Views & Identity: 517 posts\n",
            "    Neg: 50.3%, Neu: 13.7%, Pos: 7.0%, Unc: 29.0%\n",
            "  Gendered Emotion & Reflection: 333 posts\n",
            "    Neg: 58.3%, Neu: 6.6%, Pos: 1.5%, Unc: 33.6%\n",
            "  Feminist Theory & Resources: 104 posts\n",
            "    Neg: 5.8%, Neu: 19.2%, Pos: 29.8%, Unc: 45.2%\n",
            "  Link-heavy or External Content: 124 posts\n",
            "    Neg: 21.8%, Neu: 37.9%, Pos: 14.5%, Unc: 25.8%\n",
            "  Political Discussion: 80 posts\n",
            "    Neg: 53.8%, Neu: 16.2%, Pos: 3.8%, Unc: 26.2%\n"
          ]
        },
        {
          "output_type": "display_data",
          "data": {
            "text/plain": [
              "<Figure size 1500x800 with 1 Axes>"
            ],
            "image/png": "[encoded data removed]"
          },
          "metadata": {}
        },
        {
          "output_type": "stream",
          "name": "stdout",
          "text": [
            "📊 Saved cluster sentiment distribution: /content/results/feminsim_clustered_texts_before_cluster_sentiment_distribution.png\n",
            "\n",
            "🎨 Creating plot for: feminism_clustered_texts_after_with_sentiment.csv\n",
            "📋 Cluster summary for feminism_clustered_texts_after_with_sentiment.csv:\n",
            "  Gendered Emotion & Reflection: 638 posts\n",
            "    Neg: 60.3%, Neu: 6.0%, Pos: 1.7%, Unc: 32.0%\n",
            "  Personal Views & Identity: 1002 posts\n",
            "    Neg: 42.9%, Neu: 14.3%, Pos: 9.2%, Unc: 33.6%\n",
            "  Political Discussion: 318 posts\n",
            "    Neg: 50.0%, Neu: 10.1%, Pos: 4.7%, Unc: 35.2%\n",
            "  Link-heavy or External Content: 194 posts\n",
            "    Neg: 21.1%, Neu: 39.7%, Pos: 12.9%, Unc: 26.3%\n",
            "  Feminist Theory & Resources: 212 posts\n",
            "    Neg: 11.3%, Neu: 21.7%, Pos: 36.8%, Unc: 30.2%\n"
          ]
        },
        {
          "output_type": "display_data",
          "data": {
            "text/plain": [
              "<Figure size 1500x800 with 1 Axes>"
            ],
            "image/png": "[encoded data removed]"
          },
          "metadata": {}
        },
        {
          "output_type": "stream",
          "name": "stdout",
          "text": [
            "📊 Saved cluster sentiment distribution: /content/results/feminism_clustered_texts_after_cluster_sentiment_distribution.png\n",
            "\n",
            "🎨 Creating plot for: LGBT_clustered_after_with_sentiment.csv\n",
            "📋 Cluster summary for LGBT_clustered_after_with_sentiment.csv:\n",
            "  Trans Identity & Expression: 2030 posts\n",
            "    Neg: 33.3%, Neu: 11.9%, Pos: 7.2%, Unc: 47.6%\n",
            "  Community & Pride Narratives: 9852 posts\n",
            "    Neg: 27.3%, Neu: 22.6%, Pos: 19.1%, Unc: 31.0%\n",
            "  Romantic Attraction & Gender Identity: 1163 posts\n",
            "    Neg: 26.9%, Neu: 14.7%, Pos: 5.8%, Unc: 52.5%\n",
            "  Personal Reflections & Emotions: 3738 posts\n",
            "    Neg: 33.7%, Neu: 5.5%, Pos: 12.0%, Unc: 48.8%\n",
            "  Sexual Orientation & Friendship: 1161 posts\n",
            "    Neg: 45.1%, Neu: 11.9%, Pos: 6.8%, Unc: 36.2%\n",
            "  Media Attachments & Image Links: 120 posts\n",
            "    Neg: 8.3%, Neu: 59.2%, Pos: 15.0%, Unc: 17.5%\n"
          ]
        },
        {
          "output_type": "display_data",
          "data": {
            "text/plain": [
              "<Figure size 1500x800 with 1 Axes>"
            ],
            "image/png": "[encoded data removed]"
          },
          "metadata": {}
        },
        {
          "output_type": "stream",
          "name": "stdout",
          "text": [
            "📊 Saved cluster sentiment distribution: /content/results/LGBT_clustered_after_cluster_sentiment_distribution.png\n",
            "\n",
            "🎨 Creating plot for: MensRights_clustered_before_with_sentiment.csv\n",
            "📋 Cluster summary for MensRights_clustered_before_with_sentiment.csv:\n",
            "  Gender & Social Roles: 449 posts\n",
            "    Neg: 60.8%, Neu: 9.4%, Pos: 2.4%, Unc: 27.4%\n",
            "  Gender Issues & Male Victimhood: 754 posts\n",
            "    Neg: 45.4%, Neu: 19.6%, Pos: 5.7%, Unc: 29.3%\n",
            "  Masculinity & Identity: 519 posts\n",
            "    Neg: 65.5%, Neu: 7.7%, Pos: 0.2%, Unc: 26.6%\n",
            "  Personal Reflections & Emotions: 357 posts\n",
            "    Neg: 55.5%, Neu: 5.6%, Pos: 5.0%, Unc: 33.9%\n",
            "  External Content & News Links: 276 posts\n",
            "    Neg: 35.9%, Neu: 34.4%, Pos: 2.5%, Unc: 27.2%\n",
            "  Media & Link Embeds: 65 posts\n",
            "    Neg: 10.8%, Neu: 84.6%, Pos: 1.5%, Unc: 3.1%\n"
          ]
        },
        {
          "output_type": "display_data",
          "data": {
            "text/plain": [
              "<Figure size 1500x800 with 1 Axes>"
            ],
            "image/png": "[encoded data removed]"
          },
          "metadata": {}
        },
        {
          "output_type": "stream",
          "name": "stdout",
          "text": [
            "📊 Saved cluster sentiment distribution: /content/results/MensRights_clustered_before_cluster_sentiment_distribution.png\n",
            "\n",
            "🎉 Generated 6 visualization plots!\n",
            "\n",
            "📋 Summary Statistics Table:\n",
            "========================================================================================================================\n",
            "Dataset              Cluster Name                   Posts    Neg%   Neu%   Pos%   Unc%  \n",
            "========================================================================================================================\n",
            "MensRights_after     Masculinity & Identity         597      61.6   8.5    1.2    28.6  \n",
            "MensRights_after     Personal Reflections & Emotions 374      56.7   5.6    4.3    33.4  \n",
            "MensRights_after     Gender Issues & Male Victimhood 965      40.6   20.6   6.3    32.4  \n",
            "MensRights_after     Gender & Social Roles          487      62.0   8.4    2.7    26.9  \n",
            "MensRights_after     Media & Link Embeds            47       27.7   48.9   4.3    19.1  \n",
            "MensRights_after     External Content & News Links  233      33.0   33.5   7.7    25.8  \n",
            "LGBT_before          Community & Pride Narratives   9707     24.7   25.2   19.9   30.1  \n",
            "LGBT_before          Sexual Orientation & Friendship 1457     42.3   12.6   7.1    38.0  \n",
            "LGBT_before          Personal Reflections & Emotions 4562     32.6   5.3    10.7   51.3  \n",
            "LGBT_before          Trans Identity & Expression    2679     33.0   12.1   7.1    47.9  \n",
            "LGBT_before          Romantic Attraction & Gender Identity 1589     25.3   13.4   6.3    55.0  \n",
            "LGBT_before          Media Attachments & Image Links 167      6.6    61.1   11.4   21.0  \n",
            "feminsim_before      Personal Views & Identity      517      50.3   13.7   7.0    29.0  \n",
            "feminsim_before      Gendered Emotion & Reflection  333      58.3   6.6    1.5    33.6  \n",
            "feminsim_before      Feminist Theory & Resources    104      5.8    19.2   29.8   45.2  \n",
            "feminsim_before      Link-heavy or External Content 124      21.8   37.9   14.5   25.8  \n",
            "feminsim_before      Political Discussion           80       53.8   16.2   3.8    26.2  \n",
            "feminism_after       Gendered Emotion & Reflection  638      60.3   6.0    1.7    32.0  \n",
            "feminism_after       Personal Views & Identity      1002     42.9   14.3   9.2    33.6  \n",
            "feminism_after       Political Discussion           318      50.0   10.1   4.7    35.2  \n",
            "feminism_after       Link-heavy or External Content 194      21.1   39.7   12.9   26.3  \n",
            "feminism_after       Feminist Theory & Resources    212      11.3   21.7   36.8   30.2  \n",
            "LGBT_after           Trans Identity & Expression    2030     33.3   11.9   7.2    47.6  \n",
            "LGBT_after           Community & Pride Narratives   9852     27.3   22.6   19.1   31.0  \n",
            "LGBT_after           Romantic Attraction & Gender Identity 1163     26.9   14.7   5.8    52.5  \n",
            "LGBT_after           Personal Reflections & Emotions 3738     33.7   5.5    12.0   48.8  \n",
            "LGBT_after           Sexual Orientation & Friendship 1161     45.1   11.9   6.8    36.2  \n",
            "LGBT_after           Media Attachments & Image Links 120      8.3    59.2   15.0   17.5  \n",
            "MensRights_before    Gender & Social Roles          449      60.8   9.4    2.4    27.4  \n",
            "MensRights_before    Gender Issues & Male Victimhood 754      45.4   19.6   5.7    29.3  \n",
            "MensRights_before    Masculinity & Identity         519      65.5   7.7    0.2    26.6  \n",
            "MensRights_before    Personal Reflections & Emotions 357      55.5   5.6    5.0    33.9  \n",
            "MensRights_before    External Content & News Links  276      35.9   34.4   2.5    27.2  \n",
            "MensRights_before    Media & Link Embeds            65       10.8   84.6   1.5    3.1   \n",
            "========================================================================================================================\n",
            "💾 Saved summary statistics: /content/results/cluster_sentiment_summary_statistics.csv\n"
          ]
        }
      ]
    },
    {
      "cell_type": "markdown",
      "source": [
        "Download files"
      ],
      "metadata": {
        "id": "P-uDNme0VH75"
      }
    },
    {
      "cell_type": "code",
      "source": [
        "\n",
        "# Download the plot files and summary table\n",
        "print(\"\\n📥 Downloading files:\")\n",
        "for file_path in plot_files:\n",
        "    if os.path.exists(file_path):\n",
        "        colab_files.download(file_path)\n",
        "        print(f\"Downloaded: {os.path.basename(file_path)}\")\n",
        "else:\n",
        "    print(\"⚠️ No files to download\")"
      ],
      "metadata": {
        "colab": {
          "base_uri": "https://localhost:8080/",
          "height": 191
        },
        "id": "e_Gv7a8fo-zg",
        "outputId": "025d68ca-796e-46a5-f4aa-6704c0f9c53c"
      },
      "execution_count": 16,
      "outputs": [
        {
          "output_type": "stream",
          "name": "stdout",
          "text": [
            "\n",
            "📥 Downloading files:\n"
          ]
        },
        {
          "output_type": "display_data",
          "data": {
            "text/plain": [
              "<IPython.core.display.Javascript object>"
            ],
            "application/javascript": [
              "\n",
              "    async function download(id, filename, size) {\n",
              "      if (!google.colab.kernel.accessAllowed) {\n",
              "        return;\n",
              "      }\n",
              "      const div = document.createElement('div');\n",
              "      const label = document.createElement('label');\n",
              "      label.textContent = `Downloading \"${filename}\": `;\n",
              "      div.appendChild(label);\n",
              "      const progress = document.createElement('progress');\n",
              "      progress.max = size;\n",
              "      div.appendChild(progress);\n",
              "      document.body.appendChild(div);\n",
              "\n",
              "      const buffers = [];\n",
              "      let downloaded = 0;\n",
              "\n",
              "      const channel = await google.colab.kernel.comms.open(id);\n",
              "      // Send a message to notify the kernel that we're ready.\n",
              "      channel.send({})\n",
              "\n",
              "      for await (const message of channel.messages) {\n",
              "        // Send a message to notify the kernel that we're ready.\n",
              "        channel.send({})\n",
              "        if (message.buffers) {\n",
              "          for (const buffer of message.buffers) {\n",
              "            buffers.push(buffer);\n",
              "            downloaded += buffer.byteLength;\n",
              "            progress.value = downloaded;\n",
              "          }\n",
              "        }\n",
              "      }\n",
              "      const blob = new Blob(buffers, {type: 'application/binary'});\n",
              "      const a = document.createElement('a');\n",
              "      a.href = window.URL.createObjectURL(blob);\n",
              "      a.download = filename;\n",
              "      div.appendChild(a);\n",
              "      a.click();\n",
              "      div.remove();\n",
              "    }\n",
              "  "
            ]
          },
          "metadata": {}
        },
        {
          "output_type": "display_data",
          "data": {
            "text/plain": [
              "<IPython.core.display.Javascript object>"
            ],
            "application/javascript": [
              "download(\"download_ecf210d8-a4e4-450c-9ebb-db5670d72547\", \"MensRights_clustered_after_cluster_sentiment_distribution.png\", 290529)"
            ]
          },
          "metadata": {}
        },
        {
          "output_type": "stream",
          "name": "stdout",
          "text": [
            "Downloaded: MensRights_clustered_after_cluster_sentiment_distribution.png\n"
          ]
        },
        {
          "output_type": "display_data",
          "data": {
            "text/plain": [
              "<IPython.core.display.Javascript object>"
            ],
            "application/javascript": [
              "\n",
              "    async function download(id, filename, size) {\n",
              "      if (!google.colab.kernel.accessAllowed) {\n",
              "        return;\n",
              "      }\n",
              "      const div = document.createElement('div');\n",
              "      const label = document.createElement('label');\n",
              "      label.textContent = `Downloading \"${filename}\": `;\n",
              "      div.appendChild(label);\n",
              "      const progress = document.createElement('progress');\n",
              "      progress.max = size;\n",
              "      div.appendChild(progress);\n",
              "      document.body.appendChild(div);\n",
              "\n",
              "      const buffers = [];\n",
              "      let downloaded = 0;\n",
              "\n",
              "      const channel = await google.colab.kernel.comms.open(id);\n",
              "      // Send a message to notify the kernel that we're ready.\n",
              "      channel.send({})\n",
              "\n",
              "      for await (const message of channel.messages) {\n",
              "        // Send a message to notify the kernel that we're ready.\n",
              "        channel.send({})\n",
              "        if (message.buffers) {\n",
              "          for (const buffer of message.buffers) {\n",
              "            buffers.push(buffer);\n",
              "            downloaded += buffer.byteLength;\n",
              "            progress.value = downloaded;\n",
              "          }\n",
              "        }\n",
              "      }\n",
              "      const blob = new Blob(buffers, {type: 'application/binary'});\n",
              "      const a = document.createElement('a');\n",
              "      a.href = window.URL.createObjectURL(blob);\n",
              "      a.download = filename;\n",
              "      div.appendChild(a);\n",
              "      a.click();\n",
              "      div.remove();\n",
              "    }\n",
              "  "
            ]
          },
          "metadata": {}
        },
        {
          "output_type": "display_data",
          "data": {
            "text/plain": [
              "<IPython.core.display.Javascript object>"
            ],
            "application/javascript": [
              "download(\"download_18be6899-caea-459a-81e1-5bd88a40aafd\", \"LGBT_clustered_before_cluster_sentiment_distribution.png\", 320878)"
            ]
          },
          "metadata": {}
        },
        {
          "output_type": "stream",
          "name": "stdout",
          "text": [
            "Downloaded: LGBT_clustered_before_cluster_sentiment_distribution.png\n"
          ]
        },
        {
          "output_type": "display_data",
          "data": {
            "text/plain": [
              "<IPython.core.display.Javascript object>"
            ],
            "application/javascript": [
              "\n",
              "    async function download(id, filename, size) {\n",
              "      if (!google.colab.kernel.accessAllowed) {\n",
              "        return;\n",
              "      }\n",
              "      const div = document.createElement('div');\n",
              "      const label = document.createElement('label');\n",
              "      label.textContent = `Downloading \"${filename}\": `;\n",
              "      div.appendChild(label);\n",
              "      const progress = document.createElement('progress');\n",
              "      progress.max = size;\n",
              "      div.appendChild(progress);\n",
              "      document.body.appendChild(div);\n",
              "\n",
              "      const buffers = [];\n",
              "      let downloaded = 0;\n",
              "\n",
              "      const channel = await google.colab.kernel.comms.open(id);\n",
              "      // Send a message to notify the kernel that we're ready.\n",
              "      channel.send({})\n",
              "\n",
              "      for await (const message of channel.messages) {\n",
              "        // Send a message to notify the kernel that we're ready.\n",
              "        channel.send({})\n",
              "        if (message.buffers) {\n",
              "          for (const buffer of message.buffers) {\n",
              "            buffers.push(buffer);\n",
              "            downloaded += buffer.byteLength;\n",
              "            progress.value = downloaded;\n",
              "          }\n",
              "        }\n",
              "      }\n",
              "      const blob = new Blob(buffers, {type: 'application/binary'});\n",
              "      const a = document.createElement('a');\n",
              "      a.href = window.URL.createObjectURL(blob);\n",
              "      a.download = filename;\n",
              "      div.appendChild(a);\n",
              "      a.click();\n",
              "      div.remove();\n",
              "    }\n",
              "  "
            ]
          },
          "metadata": {}
        },
        {
          "output_type": "display_data",
          "data": {
            "text/plain": [
              "<IPython.core.display.Javascript object>"
            ],
            "application/javascript": [
              "download(\"download_d3ee60cf-079e-4189-8367-eeef227d2fc5\", \"feminsim_clustered_texts_before_cluster_sentiment_distribution.png\", 262540)"
            ]
          },
          "metadata": {}
        },
        {
          "output_type": "stream",
          "name": "stdout",
          "text": [
            "Downloaded: feminsim_clustered_texts_before_cluster_sentiment_distribution.png\n"
          ]
        },
        {
          "output_type": "display_data",
          "data": {
            "text/plain": [
              "<IPython.core.display.Javascript object>"
            ],
            "application/javascript": [
              "\n",
              "    async function download(id, filename, size) {\n",
              "      if (!google.colab.kernel.accessAllowed) {\n",
              "        return;\n",
              "      }\n",
              "      const div = document.createElement('div');\n",
              "      const label = document.createElement('label');\n",
              "      label.textContent = `Downloading \"${filename}\": `;\n",
              "      div.appendChild(label);\n",
              "      const progress = document.createElement('progress');\n",
              "      progress.max = size;\n",
              "      div.appendChild(progress);\n",
              "      document.body.appendChild(div);\n",
              "\n",
              "      const buffers = [];\n",
              "      let downloaded = 0;\n",
              "\n",
              "      const channel = await google.colab.kernel.comms.open(id);\n",
              "      // Send a message to notify the kernel that we're ready.\n",
              "      channel.send({})\n",
              "\n",
              "      for await (const message of channel.messages) {\n",
              "        // Send a message to notify the kernel that we're ready.\n",
              "        channel.send({})\n",
              "        if (message.buffers) {\n",
              "          for (const buffer of message.buffers) {\n",
              "            buffers.push(buffer);\n",
              "            downloaded += buffer.byteLength;\n",
              "            progress.value = downloaded;\n",
              "          }\n",
              "        }\n",
              "      }\n",
              "      const blob = new Blob(buffers, {type: 'application/binary'});\n",
              "      const a = document.createElement('a');\n",
              "      a.href = window.URL.createObjectURL(blob);\n",
              "      a.download = filename;\n",
              "      div.appendChild(a);\n",
              "      a.click();\n",
              "      div.remove();\n",
              "    }\n",
              "  "
            ]
          },
          "metadata": {}
        },
        {
          "output_type": "display_data",
          "data": {
            "text/plain": [
              "<IPython.core.display.Javascript object>"
            ],
            "application/javascript": [
              "download(\"download_0cf40765-817c-48cd-af5b-53003cf1cd11\", \"feminism_clustered_texts_after_cluster_sentiment_distribution.png\", 262778)"
            ]
          },
          "metadata": {}
        },
        {
          "output_type": "stream",
          "name": "stdout",
          "text": [
            "Downloaded: feminism_clustered_texts_after_cluster_sentiment_distribution.png\n"
          ]
        },
        {
          "output_type": "display_data",
          "data": {
            "text/plain": [
              "<IPython.core.display.Javascript object>"
            ],
            "application/javascript": [
              "\n",
              "    async function download(id, filename, size) {\n",
              "      if (!google.colab.kernel.accessAllowed) {\n",
              "        return;\n",
              "      }\n",
              "      const div = document.createElement('div');\n",
              "      const label = document.createElement('label');\n",
              "      label.textContent = `Downloading \"${filename}\": `;\n",
              "      div.appendChild(label);\n",
              "      const progress = document.createElement('progress');\n",
              "      progress.max = size;\n",
              "      div.appendChild(progress);\n",
              "      document.body.appendChild(div);\n",
              "\n",
              "      const buffers = [];\n",
              "      let downloaded = 0;\n",
              "\n",
              "      const channel = await google.colab.kernel.comms.open(id);\n",
              "      // Send a message to notify the kernel that we're ready.\n",
              "      channel.send({})\n",
              "\n",
              "      for await (const message of channel.messages) {\n",
              "        // Send a message to notify the kernel that we're ready.\n",
              "        channel.send({})\n",
              "        if (message.buffers) {\n",
              "          for (const buffer of message.buffers) {\n",
              "            buffers.push(buffer);\n",
              "            downloaded += buffer.byteLength;\n",
              "            progress.value = downloaded;\n",
              "          }\n",
              "        }\n",
              "      }\n",
              "      const blob = new Blob(buffers, {type: 'application/binary'});\n",
              "      const a = document.createElement('a');\n",
              "      a.href = window.URL.createObjectURL(blob);\n",
              "      a.download = filename;\n",
              "      div.appendChild(a);\n",
              "      a.click();\n",
              "      div.remove();\n",
              "    }\n",
              "  "
            ]
          },
          "metadata": {}
        },
        {
          "output_type": "display_data",
          "data": {
            "text/plain": [
              "<IPython.core.display.Javascript object>"
            ],
            "application/javascript": [
              "download(\"download_64b6cafa-80d8-42e6-80fa-91345de0bbb3\", \"LGBT_clustered_after_cluster_sentiment_distribution.png\", 321270)"
            ]
          },
          "metadata": {}
        },
        {
          "output_type": "stream",
          "name": "stdout",
          "text": [
            "Downloaded: LGBT_clustered_after_cluster_sentiment_distribution.png\n"
          ]
        },
        {
          "output_type": "display_data",
          "data": {
            "text/plain": [
              "<IPython.core.display.Javascript object>"
            ],
            "application/javascript": [
              "\n",
              "    async function download(id, filename, size) {\n",
              "      if (!google.colab.kernel.accessAllowed) {\n",
              "        return;\n",
              "      }\n",
              "      const div = document.createElement('div');\n",
              "      const label = document.createElement('label');\n",
              "      label.textContent = `Downloading \"${filename}\": `;\n",
              "      div.appendChild(label);\n",
              "      const progress = document.createElement('progress');\n",
              "      progress.max = size;\n",
              "      div.appendChild(progress);\n",
              "      document.body.appendChild(div);\n",
              "\n",
              "      const buffers = [];\n",
              "      let downloaded = 0;\n",
              "\n",
              "      const channel = await google.colab.kernel.comms.open(id);\n",
              "      // Send a message to notify the kernel that we're ready.\n",
              "      channel.send({})\n",
              "\n",
              "      for await (const message of channel.messages) {\n",
              "        // Send a message to notify the kernel that we're ready.\n",
              "        channel.send({})\n",
              "        if (message.buffers) {\n",
              "          for (const buffer of message.buffers) {\n",
              "            buffers.push(buffer);\n",
              "            downloaded += buffer.byteLength;\n",
              "            progress.value = downloaded;\n",
              "          }\n",
              "        }\n",
              "      }\n",
              "      const blob = new Blob(buffers, {type: 'application/binary'});\n",
              "      const a = document.createElement('a');\n",
              "      a.href = window.URL.createObjectURL(blob);\n",
              "      a.download = filename;\n",
              "      div.appendChild(a);\n",
              "      a.click();\n",
              "      div.remove();\n",
              "    }\n",
              "  "
            ]
          },
          "metadata": {}
        },
        {
          "output_type": "display_data",
          "data": {
            "text/plain": [
              "<IPython.core.display.Javascript object>"
            ],
            "application/javascript": [
              "download(\"download_61e60ef1-56a4-4c26-ae93-a518339b4e66\", \"MensRights_clustered_before_cluster_sentiment_distribution.png\", 290772)"
            ]
          },
          "metadata": {}
        },
        {
          "output_type": "stream",
          "name": "stdout",
          "text": [
            "Downloaded: MensRights_clustered_before_cluster_sentiment_distribution.png\n"
          ]
        },
        {
          "output_type": "display_data",
          "data": {
            "text/plain": [
              "<IPython.core.display.Javascript object>"
            ],
            "application/javascript": [
              "\n",
              "    async function download(id, filename, size) {\n",
              "      if (!google.colab.kernel.accessAllowed) {\n",
              "        return;\n",
              "      }\n",
              "      const div = document.createElement('div');\n",
              "      const label = document.createElement('label');\n",
              "      label.textContent = `Downloading \"${filename}\": `;\n",
              "      div.appendChild(label);\n",
              "      const progress = document.createElement('progress');\n",
              "      progress.max = size;\n",
              "      div.appendChild(progress);\n",
              "      document.body.appendChild(div);\n",
              "\n",
              "      const buffers = [];\n",
              "      let downloaded = 0;\n",
              "\n",
              "      const channel = await google.colab.kernel.comms.open(id);\n",
              "      // Send a message to notify the kernel that we're ready.\n",
              "      channel.send({})\n",
              "\n",
              "      for await (const message of channel.messages) {\n",
              "        // Send a message to notify the kernel that we're ready.\n",
              "        channel.send({})\n",
              "        if (message.buffers) {\n",
              "          for (const buffer of message.buffers) {\n",
              "            buffers.push(buffer);\n",
              "            downloaded += buffer.byteLength;\n",
              "            progress.value = downloaded;\n",
              "          }\n",
              "        }\n",
              "      }\n",
              "      const blob = new Blob(buffers, {type: 'application/binary'});\n",
              "      const a = document.createElement('a');\n",
              "      a.href = window.URL.createObjectURL(blob);\n",
              "      a.download = filename;\n",
              "      div.appendChild(a);\n",
              "      a.click();\n",
              "      div.remove();\n",
              "    }\n",
              "  "
            ]
          },
          "metadata": {}
        },
        {
          "output_type": "display_data",
          "data": {
            "text/plain": [
              "<IPython.core.display.Javascript object>"
            ],
            "application/javascript": [
              "download(\"download_db0c5a7b-b10e-474e-bc85-3673e7159c83\", \"cluster_sentiment_summary_statistics.csv\", 4442)"
            ]
          },
          "metadata": {}
        },
        {
          "output_type": "stream",
          "name": "stdout",
          "text": [
            "Downloaded: cluster_sentiment_summary_statistics.csv\n",
            "⚠️ No files to download\n"
          ]
        }
      ]
    }
  ]
}